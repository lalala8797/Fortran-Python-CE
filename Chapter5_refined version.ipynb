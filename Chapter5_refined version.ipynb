{
 "cells": [
  {
   "cell_type": "markdown",
   "id": "4435343d",
   "metadata": {},
   "source": [
    "## Chapter 5\n",
    "# The life-cycle model and intertemporal choice"
   ]
  },
  {
   "cell_type": "code",
   "execution_count": 5,
   "id": "717f95e2",
   "metadata": {},
   "outputs": [],
   "source": [
    "import numpy as np\n",
    "from scipy.optimize import minimize, Bounds\n",
    "from discretize_tools import *"
   ]
  },
  {
   "cell_type": "code",
   "execution_count": 6,
   "id": "107db400",
   "metadata": {},
   "outputs": [],
   "source": [
    "class LifeCycleModel:\n",
    "    '''Class of life-cycle model with 3 periods'''\n",
    "    \n",
    "    def __init__(self, income = 1.0,int_rate = 1.0,\n",
    "                 discount_factor = 1.0, risk_aversion = 0.5,\n",
    "                 n = 5, variance = 1.0, uncer_wage = False):\n",
    "        self.R = int_rate\n",
    "        self.β = discount_factor\n",
    "        self.γ = risk_aversion\n",
    "        self.egam = 1 - 1/self.γ\n",
    "        self.uncer_wage = uncer_wage\n",
    "        if self.uncer_wage:\n",
    "            self.n = n\n",
    "            self.μw = income\n",
    "            self.w = np.array(log_normal_discrete(n,self.μw,variance))[0:1].reshape((n,))\n",
    "            self.ω = np.array(log_normal_discrete(n,self.μw,variance))[1:].reshape((n,))\n",
    "            self.a1, self.a2, self.a3 = 0, 0, np.zeros(n)\n",
    "            self.c1, self.c2, self.c3 = 0, np.zeros(n), np.zeros(n)\n",
    "            self.ub = np.array([self.μw] + [self.R*self.μw + self.w[i] for i in range(n)])\n",
    "            self.bounds = Bounds(np.zeros(n+1)+1e-8,self.ub)\n",
    "            self.guess = self.ub/2\n",
    "        else:\n",
    "            self.w = income\n",
    "            self.ub = np.array([self.w,self.R*(self.w + 1)])\n",
    "            self.bounds = Bounds(np.zeros(2),self.ub)\n",
    "            self.guess = self.ub/2\n",
    "            self.c1, self.c2, self.c3 = 0, 0, 0\n",
    "            self.a1, self.a2, self.a3 = 0, 0, 0\n",
    "    \n",
    "    def __repr__(self):\n",
    "        if self.uncer_wage:\n",
    "            return '''Life-cycle model with uncertain wage rate:\\ndisretized w: \\n{} with weights\\n{}\\nR = {}\\nβ = {}\\nγ = {}'''\\\n",
    "               .format(self.w,self.ω,self.R,self.β,self.γ)\n",
    "        else:\n",
    "            return '''Life-cycle model:\\nw = {}\\nR = {}\\nβ = {}\\nγ = {}'''\\\n",
    "               .format(self.w,self.R,self.β,self.γ)\n",
    "        \n",
    "    def utility(self,x):\n",
    "        if self.uncer_wage:\n",
    "            self.a2 = x[0]\n",
    "            self.a3 = x[1:]\n",
    "            self.c1 = max(self.μw - self.a2 , 1e-10)\n",
    "            self.c2 = np.maximum(self.R*self.a2+self.w-self.a3,np.full(self.n,1e-10))\n",
    "            self.c3 = np.maximum(self.R*self.a3,np.full(self.n,1e-10))\n",
    "            expect = .0\n",
    "            for i in range(self.n):\n",
    "                expect += self.ω[i]*(self.c2[i]**self.egam+self.β*self.c3[i]**self.egam)/self.egam\n",
    "            return -(self.c1**self.egam/self.egam+ self.β*expect)\n",
    "        else:\n",
    "            self.a2 = x[0]\n",
    "            self.a3 = x[1]\n",
    "            self.c1 = max(self.w - self.a2, 1e-10)\n",
    "            self.c2 = max(self.R*self.a2 + self.w -self.a3, 1e-10)\n",
    "            self.c3 = max(self.R*self.a3, 1e-10)\n",
    "            return -(self.c1**self.egam +self.β*self.c2**self.egam+self.β**2*\\\n",
    "                     self.c3**self.egam)/self.egam\n",
    "        \n",
    "    def __call__(self,i):\n",
    "        if i == 1:\n",
    "            return self.c1,self.a1\n",
    "        elif i == 2:\n",
    "            return self.c2,self.a2\n",
    "        elif i == 3:\n",
    "            return self.c3,self.a3\n",
    "        else:\n",
    "            raise VauleError('Inpyt i shoule be 1,2,or 3')\n",
    "        \n",
    "    def E(self,x):\n",
    "        if isinstance(x,(float,int)):\n",
    "            return x\n",
    "        else:\n",
    "            E = .0\n",
    "            for i in range(len(x)):\n",
    "                E += self.ω[i]*x[i]\n",
    "            return E\n",
    "    \n",
    "    def Std(self,x):\n",
    "        if isinstance(x,(float,int)):\n",
    "            return 0\n",
    "        else:\n",
    "            std = 0.0\n",
    "            for i in range(len(x)):\n",
    "                std += self.ω[i]*x[i]**2\n",
    "            std = (std-self.E(x)**2)**0.5\n",
    "            return std\n",
    "    "
   ]
  },
  {
   "cell_type": "code",
   "execution_count": 8,
   "id": "167defbc",
   "metadata": {},
   "outputs": [
    {
     "name": "stdout",
     "output_type": "stream",
     "text": [
      "Time  Con   Saving\n",
      "1     0.91  0.00\n",
      "2     0.64  0.09\n",
      "3     0.45  0.45\n"
     ]
    }
   ],
   "source": [
    "model1 = LifeCycleModel(discount_factor =.5)\n",
    "minimize(model1.utility,model1.guess,bounds=model1.bounds)\n",
    "print('Time  Con   Saving')\n",
    "for i in range(1,4):\n",
    "    print('{}     {:.2f}  {:.2f}'.format(i,model1.E(model1(i)[0]),model1.E(model1(i)[1])))"
   ]
  },
  {
   "cell_type": "code",
   "execution_count": 4,
   "id": "838ff719",
   "metadata": {},
   "outputs": [
    {
     "name": "stdout",
     "output_type": "stream",
     "text": [
      "Time  Con   Saving\n",
      "1     0.53  0.00 (Mean)\n",
      "      0.00  0.00 (Std)\n",
      "2     0.74  0.47 (Mean)\n",
      "      0.50  0.00 (Std)\n",
      "3     0.74  0.74 (Mean)\n",
      "      0.50  0.50 (Std)\n"
     ]
    }
   ],
   "source": [
    "model2 = LifeCycleModel(uncer_wage = True)\n",
    "minimize(model2.utility,model2.guess,bounds=model2.bounds)\n",
    "print('Time  Con   Saving')\n",
    "for i in range(1,4):\n",
    "    print('{}     {:.2f}  {:.2f} (Mean)'.format(i,model2.E(model2(i)[0]),model2.E(model2(i)[1])))\n",
    "    print('      {:.2f}  {:.2f} (Std)'.format(model2.Std(model2(i)[0]),model2.Std(model2(i)[1])))"
   ]
  }
 ],
 "metadata": {
  "kernelspec": {
   "display_name": "Python 3 (ipykernel)",
   "language": "python",
   "name": "python3"
  },
  "language_info": {
   "codemirror_mode": {
    "name": "ipython",
    "version": 3
   },
   "file_extension": ".py",
   "mimetype": "text/x-python",
   "name": "python",
   "nbconvert_exporter": "python",
   "pygments_lexer": "ipython3",
   "version": "3.8.12"
  }
 },
 "nbformat": 4,
 "nbformat_minor": 5
}
