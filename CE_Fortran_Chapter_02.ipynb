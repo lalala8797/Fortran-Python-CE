{
 "cells": [
  {
   "cell_type": "markdown",
   "metadata": {},
   "source": [
    "## This python code reverts CE_Fortran_Chapter_02.f90."
   ]
  },
  {
   "cell_type": "markdown",
   "metadata": {},
   "source": [
    "# 2. Numerical solution methods\n",
    "\n",
    "In this chapter we convert simple methods for solving numerical problems in Fortran to Python. This chapter starts with <b><i>linear equation systems</i></b>, continue with <b><i>nonlinear equations</i></b> and finally <b><i>optimization, interpolation</i></b>, and <b><i>integration methods</i></b>. "
   ]
  },
  {
   "cell_type": "markdown",
   "metadata": {},
   "source": [
    "## 2.1 Matrices, vectors, and linear equation systems\n",
    "\n",
    "The general structure of a matrix $A$ and a vector $b$ in mathematcs is given by \\begin{equation}\n",
    "A = \\begin{bmatrix}\n",
    " a_{11} & a_{12} & \\dots & a_{1n} \\\\ \n",
    " a_{21} & a_{22} & \\dots & a_{2n}\\\\ \n",
    " \\vdots & \\vdots & \\ddots & \\vdots \\\\ \n",
    " a_{m1} & a_{m2} & \\dots & a_{mn}\n",
    "\\end{bmatrix}\n",
    "\\quad \\text{and} \\quad\n",
    "b = \\begin{bmatrix}\n",
    " b_1 \\\\\n",
    " b_2 \\\\\n",
    " \\vdots \\\\\n",
    " b_n\n",
    "\\end{bmatrix}\n",
    "\\end{equation}\n",
    "Some examples are given in Program 2.1. For more information, check Numpy document."
   ]
  },
  {
   "cell_type": "code",
   "execution_count": 326,
   "metadata": {},
   "outputs": [
    {
     "name": "stdout",
     "output_type": "stream",
     "text": [
      "vector a =  [4. 3. 2. 1.]\n",
      "matrix x =  [[0. 0. 0. 0.]\n",
      " [0. 0. 0. 0.]]\n",
      "matrix x =  [[1. 2. 3. 4.]\n",
      " [5. 6. 7. 8.]]\n",
      "transpose of x =  [[1. 5.]\n",
      " [2. 6.]\n",
      " [3. 7.]\n",
      " [4. 8.]]\n",
      "standard product of x, y =  [[ 30.  70.]\n",
      " [ 70. 174.]]\n",
      "element-wise multiplication of x,y =  [[ 1.  4.  9. 16.]\n",
      " [25. 36. 49. 64.]]\n",
      "Row maxima = [5. 6. 7. 8.]\n",
      "Col maxima = [4. 8.]\n",
      "Overall maximum = 8.0\n"
     ]
    }
   ],
   "source": [
    "##### Program 2.1 Matrix and vector operations\n",
    "\n",
    "# Import package\n",
    "import numpy as np\n",
    "\n",
    "\n",
    "# Initialize vectors and matrics\n",
    "\n",
    "# A vector is a one-dimensional array. You can create a vector from a list of numbers.\n",
    "# Optionally, you can tell numpy the type of the entries. The 'float' for real number and\n",
    "# 'int' for intergers.\n",
    "a = np.array([4,3,2,1],dtype='float')\n",
    "print('vector a = ', a)\n",
    "\n",
    "\n",
    "#You can use np.arange(a,b,c) to create a sequence of numbers. The sequence starts from 'a' \n",
    "#and continues with 'a+c, a+2c,...' until 'b-1'. If 'b-1' is not in the sequence, the \n",
    "#sequence ends with the number that is in this sequence and is closest to 'b-1'.\n",
    "a = np.arange(4,0,-1) \n",
    "\n",
    "\n",
    "# The '+' is used for element-wise sum.\n",
    "b = a + 4\n",
    "\n",
    "\n",
    "# You can use np.zeros((a,b)) to create an a*b matrix with all zero entries.\n",
    "x = np.zeros((2,4))\n",
    "print('matrix x = ', x)\n",
    "\n",
    "\n",
    "# Numpy enables us to slicing the matrix easily. x[a,b] means the entry of x located at\n",
    "# a^th row and b^th column. x[:a,b] means the first entries located ata rows and b^th column.\n",
    "# x[a,:] means all the entries in a^th row. We can use '=' to replace the entries \n",
    "# that we slicing.\n",
    "x[0,:] = np.arange(1,5)\n",
    "x[1,:] = np.arange(5,9)\n",
    "print('matrix x = ', x)\n",
    "\n",
    "\n",
    "# Using matrix.T to transpose the matrix.\n",
    "y = x.T\n",
    "print('transpose of x = ', y)\n",
    "\n",
    "\n",
    "# Using A@B to multiply two matrices.\n",
    "z = x@y\n",
    "print('standard product of x, y = ', z)\n",
    "\n",
    "\n",
    "# Using A*B to entry-wisely multiply A and B.\n",
    "w = y.T*x\n",
    "print('element-wise multiplication of x,y = ', w)\n",
    "\n",
    "\n",
    "# To produce summary data, we can either collect information for each row or column, \n",
    "# or for the whole matrix:\n",
    "\n",
    "# Maximum entry in each row\n",
    "print(\"Row maxima =\", np.max(x, axis=0))\n",
    "\n",
    "\n",
    "# Maximum entry in each column\n",
    "print(\"Col maxima =\", np.max(x, axis=1))\n",
    "\n",
    "\n",
    "# Maximum entry in the whole matrix\n",
    "print(\"Overall maximum =\", np.max(x))\n",
    "\n"
   ]
  },
  {
   "cell_type": "markdown",
   "metadata": {},
   "source": [
    "### 2.1.2 Solving linear equation system\n",
    "\n",
    "There are two ways to solve linear systems: by <i>Gaussian elimination</i> or <i>Iterative methods</i>. "
   ]
  },
  {
   "cell_type": "markdown",
   "metadata": {},
   "source": [
    "><b>Example</b> Consider the supply and demand functions for three goods given by \n",
    "\n",
    "\\begin{equation}\n",
    "\\begin{split}\n",
    "q_1^s &= -10+p_1 ~~~~~~~~ q_1^d = 20-p_1-p_3 \\\\\n",
    "q_2^s &= 2p_2 ~~~~~~~~~~~~~~~~~ q_2^d = 40-2p_2-p_3 \\\\\n",
    "q_3^s &= -5+p_3 ~~~~~~~~~~ q_3^d = 25-p_1-p_2-p_3\n",
    "\\end{split}\n",
    "\\end{equation}\n",
    ">by setting $q_i^s = q_i^d$ in each market which after rearranging yields the linear equation system\n",
    "\n",
    "\\begin{equation}\n",
    "\\begin{split}\n",
    "2p_1+p_3 &=30 \\\\\n",
    "4p_2+p_3 &=40 \\\\\n",
    "p_1+p_2+p_3 &=30\n",
    "\\end{split}\n",
    "\\end{equation}\n",
    "\n",
    "Rewitten this into matrix version:\n",
    "\n",
    "\\begin{align*}\n",
    "\\left[\n",
    "    \\begin{array}{ccc}\n",
    "    2 & 0 & 1\\\\\n",
    "    0 & 4 & 1\\\\\n",
    "    1 & 1 & 1\n",
    "    \\end{array}\n",
    "    \\right]\n",
    "    \\left[\n",
    "    \\begin{array}{c}\n",
    "    p_1\\\\\n",
    "    p_2\\\\\n",
    "    p_3\n",
    "    \\end{array}\n",
    "    \\right]\n",
    "    =\\left[\n",
    "    \\begin{array}{ccc}\n",
    "    30\\\\\n",
    "    40\\\\\n",
    "    30\n",
    "    \\end{array}\n",
    "    \\right]\n",
    "\\end{align*}"
   ]
  },
  {
   "cell_type": "markdown",
   "metadata": {},
   "source": [
    "We can express a linear equation system in matrix notation as $$Qp=b$$ where $p$ defines an $n$-dimensional (unknown) vector and $Q$ and $b$ define a $nxn$ matrix and a $n$-dimentional vector of exogenous parameters of the system. In the above example, we have $n=3$ and \\begin{equation}\n",
    "Q = \\begin{bmatrix}\n",
    " 2 & 0 & 1 \\\\ \n",
    " 0 & 4 & 1 \\\\ \n",
    " 1 & 1 & 2\n",
    "\\end{bmatrix},\n",
    "\\quad p = \\begin{bmatrix}\n",
    " p_1 \\\\ \n",
    " p_2 \\\\ \n",
    " p_3\n",
    "\\end{bmatrix},\n",
    "\\quad \\text{and} \\quad\n",
    "b = \\begin{bmatrix}\n",
    " 30 \\\\\n",
    " 40 \\\\\n",
    " 30\n",
    "\\end{bmatrix}.\n",
    "\\end{equation}"
   ]
  },
  {
   "cell_type": "markdown",
   "metadata": {},
   "source": [
    "**Gaussian Elimination**\n",
    "\n",
    "If a solution to the equation system existed, we can use gaussian elimination to solve this system. The first step is to break up $Q$ into the product of an unit lower ($L$) triangular matrix and an upper ($U$) triangular matrix, so that $Q$ can be written as $$Q=LU.$$ We can rearrange this system as $$Qp=(LU)p=L(Up)=Ly=b.$$ \n",
    "\n",
    "Consequently, we first would determine the vector $y$ from the lower triangular system $Ly=b$ by forward substitution and then $p$ via $Up=y$ using backward substitution. However, LU factorisation has two problems: LU factorisation do not exist for all invertible matrix, and it can be fail catastrophically in the presence of rounding errors. Therefore, we need to invlove <i>partial pivoting</i> into the LU factorisation. The partial pivoting is just multiply a permutation matrix $P$ before $LU$. That is, $Q=PLU$.\n",
    "\n",
    "Usually, factorising $Q$ using NumPy and SciPy is convenient. But they have slightly different version of factorisation."
   ]
  },
  {
   "cell_type": "code",
   "execution_count": 327,
   "metadata": {},
   "outputs": [
    {
     "name": "stdout",
     "output_type": "stream",
     "text": [
      "P = [0 1 2]\n",
      "LU = [[2.   0.   1.  ]\n",
      " [0.   4.   1.  ]\n",
      " [0.5  0.25 1.25]]\n",
      "P = [[1. 0. 0.]\n",
      " [0. 1. 0.]\n",
      " [0. 0. 1.]]\n",
      "L = [[1.   0.   0.  ]\n",
      " [0.   1.   0.  ]\n",
      " [0.5  0.25 1.  ]]\n",
      "U = [[2.   0.   1.  ]\n",
      " [0.   4.   1.  ]\n",
      " [0.   0.   1.25]]\n"
     ]
    }
   ],
   "source": [
    "##### Program 2.2 Linear equation-solving\n",
    "\n",
    "import scipy.linalg as linalg\n",
    "\n",
    "# Initialize vectors and matrics\n",
    "Q = np.zeros((3,3))\n",
    "Q[0,:] = ([2,0,1])\n",
    "Q[1,:] = ([0,4,1])\n",
    "Q[2,:] = ([1,1,2])\n",
    "b = np.array([30,40,30])\n",
    "\n",
    "# Factorise Q\n",
    "\n",
    "\n",
    "# scipy.linalg.lu_factor factorise Q as P,L,U and store them efficiently (L and U in one \n",
    "# n*n matrix and P as a vector of integers). For more information, see scipy.linalg.lu_factor\n",
    "# document.\n",
    "LU, piv1 = linalg.lu_factor(Q)\n",
    "print('P =', piv1)\n",
    "print('LU =', LU)\n",
    "\n",
    "\n",
    "# Alternatively, we can use scipy.linalg.lu to factorise Q=PLU and store P, L, U in\n",
    "# n*n matries. However, this is not the optimal way to store them for large systems \n",
    "# (it takes too much memory).\n",
    "\n",
    "piv2, L, U = linalg.lu(Q)\n",
    "print('P =', piv2)\n",
    "print('L =', L)\n",
    "print('U =', U)\n"
   ]
  },
  {
   "cell_type": "markdown",
   "metadata": {},
   "source": [
    "Now $L$ and $U$ have the intended triangular shape. It is easy to check that that $Q=PLU$ still holds. Hence, the result of the equation systems $PLUp=b$ and $Qp=b$ are identical. The above approach can be applied to any invertible matrix $Q$ in order to decompose it into the $L$ and $U$ factors. We can now solve the system $Ly=P^{-1}b=b^{'}$ for $y$ by using forward substitution. The solution to this system is given by:\n",
    "\\begin{align*}\n",
    "y_1 &= \\frac{30}{1} &= 30, \\\\\n",
    "y_2 &= \\frac{40-0\\times30}{1}&=40, \\\\\n",
    "y_3 &= \\frac{30-0.5\\times30-0.25\\times40}{1} &= 5.\n",
    "\\end{align*}\n",
    "\n",
    "Generally, we have \n",
    "\\begin{equation*}\n",
    "y_i=b^{'}_i-\\sum^{i-1}_{k-1}l_{i,k}y_k, \\quad i=1,2,...,n.\n",
    "\\end{equation*}\n",
    "The linear system $Uq=y$ can then be solved using backward substitution, yielding the solution of the original linear equation, i.e. \\begin{equation}\n",
    "\\begin{split}\n",
    "p_3 &= 5/1.25 =4, \\\\\n",
    "p_2 &= (40-1\\times4)/4=9, \\\\\n",
    "p_1 &= (30-0\\times9-1\\times4)/2 = 13.\n",
    "\\end{split}\n",
    "\\end{equation}\n",
    "Generally, we have:\n",
    "\\begin{equation*}\n",
    "p_i=\\frac{y_i-\\sum^n_{k=i+1}u_{i,k}x_k}{u_{i,i}},\\quad i=1,2,...,n.\n",
    "\\end{equation*}"
   ]
  },
  {
   "cell_type": "code",
   "execution_count": 328,
   "metadata": {},
   "outputs": [
    {
     "name": "stdout",
     "output_type": "stream",
     "text": [
      "p1, p2, p3 = 13.0 9.0 4.0\n",
      "p1, p2, p3 = 13.0 9.0 4.0\n"
     ]
    }
   ],
   "source": [
    "##### Program 2.2 Linear equation-solving\n",
    "\n",
    "# Solve the system\n",
    "\n",
    "# Using np.linalg.solve it directly\n",
    "p = np.linalg.solve(Q,b)\n",
    "print('p1, p2, p3 =',p[0],p[1],p[2])\n",
    "\n",
    "# Using scipy.linalg.lu_solve to solve for p with the pre-calculated P, LU (store efficiently)\n",
    "p = linalg.lu_solve((LU,piv1),b)\n",
    "print('p1, p2, p3 =',p[0],p[1],p[2])"
   ]
  },
  {
   "cell_type": "markdown",
   "metadata": {},
   "source": [
    "We can also solve this system by multiplying $b$ with $Q^{-1}$. \n",
    "\n",
    "Program 2.3 shows how to solve linear system using inverse matrix."
   ]
  },
  {
   "cell_type": "code",
   "execution_count": 329,
   "metadata": {},
   "outputs": [
    {
     "name": "stdout",
     "output_type": "stream",
     "text": [
      "Q^-1 =  [[ 0.7  0.1 -0.4]\n",
      " [ 0.1  0.3 -0.2]\n",
      " [-0.4 -0.2  0.8]]\n",
      "p =  [13.  9.  4.]\n"
     ]
    }
   ],
   "source": [
    "##### Program 2.3 Inversion of matrix\n",
    "\n",
    "# Import package\n",
    "from numpy.linalg import inv\n",
    "\n",
    "# Set up matrix and vector\n",
    "Q = np.zeros((3,3))\n",
    "Q[0,:] = ([2,0,1])\n",
    "Q[1,:] = ([0,4,1])\n",
    "Q[2,:] = ([1,1,2])\n",
    "b = np.array([30,40,30])\n",
    "\n",
    "# Invert Q\n",
    "Q_inv = inv(Q)\n",
    "print('Q^-1 = ', Q_inv)\n",
    "\n",
    "# Calculate solution\n",
    "p = Q_inv @ b\n",
    "print('p = ', p)"
   ]
  },
  {
   "cell_type": "markdown",
   "metadata": {},
   "source": [
    "Unfortunately, using inverse matrix usually is not a good idea for solving linear system. The rounding errors can be huge for some linear system.\n",
    "\n",
    "Consider a Hilbert Matrix that is a $n\\times n$ matrix with:\n",
    "\\begin{equation*}\n",
    "A_{i,j}=\\frac{1}{i+j+1},\n",
    "\\end{equation*}\n",
    "where the indices are the same as NumPy (i.e. $i, j = 0,... , n - 1$).\n",
    "and $b$ is the first column of $A$.\n",
    "\n",
    "Next program compares solving $Ax=b$ by inverse matrix and SciPy. We can see that matrix inversion method gives a wrong answer due to rounding error."
   ]
  },
  {
   "cell_type": "code",
   "execution_count": 330,
   "metadata": {},
   "outputs": [
    {
     "name": "stdout",
     "output_type": "stream",
     "text": [
      "False x =  [ 5.78079768e-01  2.55232048e+00 -1.75178833e+01  6.16191406e+01\n",
      " -3.47109375e+01 -1.74031250e+02  3.51281250e+02 -2.76750000e+02\n",
      "  9.41250000e+01  6.50000000e+00 -2.00000000e+01  7.00000000e+00\n",
      " -1.50000000e+00  0.00000000e+00 -6.25000000e-02]\n",
      "True x = [ 1.  0.  0.  0.  0.  0. -0.  0. -0.  0. -0. -0.  0. -0.  0.]\n"
     ]
    }
   ],
   "source": [
    "# Import package\n",
    "\n",
    "# Function that generates Hilbert Matrix\n",
    "def hilbert (n):\n",
    "    A = np. zeros ((n,n))\n",
    "    for i in range (n):\n",
    "        for j in range (n):\n",
    "            A[i,j ]=1/( i+j+1)\n",
    "    return A\n",
    "A = hilbert(15)\n",
    "b = A[: ,0]\n",
    "\n",
    "# Solving for x by x=A^-1b\n",
    "A_inv = np.linalg.inv(A)\n",
    "x = A_inv @ b\n",
    "print('False x = ', x)\n",
    "\n",
    "# Solving for x by SciPy\n",
    "LU, piv1 = linalg.lu_factor(A)\n",
    "x = linalg.lu_solve((LU,piv1),b)\n",
    "print('True x =',x)"
   ]
  },
  {
   "cell_type": "markdown",
   "metadata": {},
   "source": [
    "**Iteration methods**\n",
    "\n",
    "The basic idea of iterative methods is simple. Given the linear equation system $Qp=b$, one can choose an invertible matrix $M$ that satisfies two conditions: $M\\approx Q$; $Mp=b$ is easy to solve.\n",
    "\n",
    "\n",
    "If such $M$ exsits and after $k$ iterations we have an approximate solution $p^k\\approx p$. Then the residual is:\n",
    "\\begin{equation*}\n",
    "r^k=b-Qp^k=Q(p-p^k)\\approx M(p-p^k)\n",
    "\\end{equation*}\n",
    "\n",
    "Then we have:\n",
    "\\begin{equation*}\n",
    "p\\approx p^k + M^{-1}r^k=p^k+ M^{-1}(b-Qp^k)\n",
    "\\end{equation*}\n",
    "\n",
    "Based on this, we have our iterative method given by:\n",
    "\\begin{equation*}\n",
    "p^{k+1}=p^k+ M^{-1}(b-Qp^k)\n",
    "\\end{equation*}\n",
    "\n",
    "\n",
    "The Jacobi and the Gauss-Seidel method are popular representatives of the iteration methods. While the Jacobi method sets $M$ equal to the diagonal matrix formed out of the diagonal entries of $Q$, the Gauss-Seidel method sets $M$ equal to the upper triangular matrix of lower triangular entries of $Q$. Both of these matrices are easily invertible by hand and satisfies above two conditions.\n",
    "\n",
    "For Jacobi method, we can easily show that the iterative method is given by:\n",
    "\\begin{equation*}\n",
    "p^{k+1}=D^{-1}[b-(L+U)p^k].\n",
    "\\end{equation*}\n",
    "Written out in components, this is:\n",
    "\\begin{equation*}\n",
    "p_i^{k+1}=\\frac{1}{a_{i,i}}\\left(b_i-\\sum\\limits^n_{j=1,j\\neq i}a_{i,j}p_j^k\\right), \\quad \\forall i=1,2,...,n.\n",
    "\\end{equation*}\n",
    "\n",
    "With similar algebra, we can write out Gauss-Seidel Method with components as:\n",
    "\n",
    "\\begin{equation*}\n",
    "p_i^{k+1}=\\frac{1}{a_{i,i}}\\left(b_i-\\sum\\limits^{i-1}_{j=1}a_{i,j}p_j^{k+1}-\\sum\\limits^{n}_{j=i+1}a_{i,j}p_j^{k}\\right), \\quad \\forall i=1,2,...,n.\n",
    "\\end{equation*}\n",
    "\n",
    "\n",
    "\n",
    "Program 2.4 shows how iterative methods can be applied to our problem."
   ]
  },
  {
   "cell_type": "code",
   "execution_count": 3,
   "metadata": {},
   "outputs": [
    {
     "name": "stdout",
     "output_type": "stream",
     "text": [
      "[[0.5  0.   0.  ]\n",
      " [0.   0.25 0.  ]\n",
      " [0.   0.   0.5 ]]\n",
      "Iter:  1 15.0\n",
      "Iter:  2 12.5\n",
      "Iter:  3 6.25\n",
      "Iter:  4 4.6875\n",
      "Iter:  5 2.34375\n",
      "Iter:  6 1.7578125\n",
      "Iter:  7 0.87890625\n",
      "Iter:  8 0.6591796875\n",
      "Iter:  9 0.32958984375\n",
      "Iter:  10 0.2471923828125\n",
      "Iter:  11 0.12359619140625\n",
      "Iter:  12 0.0926971435546875\n",
      "Iter:  13 0.04634857177734375\n",
      "Iter:  14 0.03476142883300781\n",
      "Iter:  15 0.017380714416503906\n",
      "Iter:  16 0.01303553581237793\n",
      "Iter:  17 0.006517767906188965\n",
      "Iter:  18 0.004888325929641724\n",
      "Iter:  19 0.002444162964820862\n",
      "Iter:  20 0.0018331222236156464\n",
      "Iter:  21 0.0009165611118078232\n",
      "Iter:  22 0.0006874208338558674\n",
      "Iter:  23 0.0003437104169279337\n",
      "Iter:  24 0.00025778281269595027\n",
      "Iter:  25 0.00012889140634797513\n",
      "Iter:  26 9.666855476098135e-05\n",
      "Iter:  27 4.8334277380490676e-05\n",
      "Iter:  28 3.625070803536801e-05\n",
      "Iter:  29 1.8125354017684003e-05\n",
      "Iter:  30 1.3594015513263003e-05\n",
      "Iter:  31 6.797007756631501e-06\n",
      "Iter:  32 5.097755817473626e-06\n",
      "Iter:  33 2.548877908736813e-06\n",
      "Iter:  34 1.9116584315526097e-06\n",
      "Iter:  35 9.558292166644833e-07\n",
      "x =  [13.00000011  9.00000006  4.00000063]\n"
     ]
    }
   ],
   "source": [
    "##### Program 2.4 Jacobi iteration-Matrix form\n",
    "\n",
    "# Import package\n",
    "\n",
    "# Set up matrix and vector\n",
    "A = np.zeros((3,3))\n",
    "A[0,:] = ([2,0,1])\n",
    "A[1,:] = ([0,4,1])\n",
    "A[2,:] = ([1,1,2])\n",
    "b = np.array([30,40,30])\n",
    "ID = np.zeros((3,3))\n",
    "Dinv = np.zeros((3,3))\n",
    "for i in range(3):\n",
    "    ID[i,i] = 1\n",
    "    Dinv[i,i] = 1/A[i,i]\n",
    "\n",
    "# Calculate iteratin matrix and vector\n",
    "C = ID - np.matmul(Dinv, A)\n",
    "d = np.matmul(Dinv, b)\n",
    "\n",
    "# Initialize xold\n",
    "xold = np.zeros(3)\n",
    "\n",
    "# Start interation\n",
    "for iter in range(1,201):\n",
    "    x = d + np.matmul(C, xold)\n",
    "    print('Iter: ', iter, np.amax(abs(x-xold)))\n",
    "    # check for convergence\n",
    "    if np.amax(abs(x-xold)) < 1e-6: \n",
    "        print('x = ', x)\n",
    "        break\n",
    "    else:\n",
    "        xold = x"
   ]
  },
  {
   "cell_type": "code",
   "execution_count": 332,
   "metadata": {},
   "outputs": [
    {
     "name": "stdout",
     "output_type": "stream",
     "text": [
      "Iter:  1 23.45207879911715\n",
      "Iter:  2 15.051993223490369\n",
      "Iter:  3 8.970437559004578\n",
      "Iter:  4 5.644497458808888\n",
      "Iter:  5 3.3639140846267166\n",
      "Iter:  6 2.1166865470533334\n",
      "Iter:  7 1.2614677817350186\n",
      "Iter:  8 0.793757455145\n",
      "Iter:  9 0.47305041815063203\n",
      "Iter:  10 0.29765904567937496\n",
      "Iter:  11 0.177393906806487\n",
      "Iter:  12 0.11162214212976562\n",
      "Iter:  13 0.06652271505243262\n",
      "Iter:  14 0.04185830329866211\n",
      "Iter:  15 0.024946018144662234\n",
      "Iter:  16 0.01569686373699829\n",
      "Iter:  17 0.009354756804248339\n",
      "Iter:  18 0.0058863239013743586\n",
      "Iter:  19 0.0035080338015931268\n",
      "Iter:  20 0.0022073714630153844\n",
      "Iter:  21 0.0013155126755974226\n",
      "Iter:  22 0.0008277642986307692\n",
      "Iter:  23 0.0004933172533490334\n",
      "Iter:  24 0.00031041161198653845\n",
      "Iter:  25 0.00018499397000588754\n",
      "Iter:  26 0.00011640435449495191\n",
      "Iter:  27 6.937273875220783e-05\n",
      "Iter:  28 4.365163293560697e-05\n",
      "Iter:  29 2.6014777032077935e-05\n",
      "Iter:  30 1.6369362350852613e-05\n",
      "Iter:  31 9.755541387029226e-06\n",
      "Iter:  32 6.13851088156973e-06\n",
      "Iter:  33 3.65832802013596e-06\n",
      "Iter:  34 2.3019415808099265e-06\n",
      "Iter:  35 1.3718730083554551e-06\n",
      "Iter:  36 8.632280940576288e-07\n",
      "Iter:  37 5.144523788758836e-07\n",
      "Iter:  38 3.237105351425322e-07\n",
      "Iter:  39 1.9291964147510367e-07\n",
      "Iter:  40 1.2139145012525555e-07\n",
      "Iter:  41 7.234486583163433e-08\n",
      "Iter:  42 4.552179593598775e-08\n",
      "Iter:  43 2.712932663615609e-08\n",
      "Iter:  44 1.7070673291597514e-08\n",
      "Iter:  45 1.0173497426676253e-08\n",
      "Iter:  46 6.4015038488943605e-09\n",
      "p =  [13.  9.  4.]\n"
     ]
    }
   ],
   "source": [
    "##### Program 2.4 Jacobi iteration\n",
    "\n",
    "# Import package\n",
    "import numpy as np\n",
    "\n",
    "# Set up matrix and vector\n",
    "Q = np.zeros((3,3))\n",
    "Q[0,:] = ([2,0,1])\n",
    "Q[1,:] = ([0,4,1])\n",
    "Q[2,:] = ([1,1,2])\n",
    "b = np.array([30,40,30])\n",
    "\n",
    "# Initialize p_old\n",
    "p_old = np.array([0.0,0.0,0.0])\n",
    "p = p_old.copy()\n",
    "\n",
    "# Start interation\n",
    "for iter in range(1,201):\n",
    "    for i in range(len(b)):\n",
    "        Q1 = np.append(Q[i,:i],Q[i,i+1:])\n",
    "        p1 = np.append(p_old[:i],p_old[i+1:])\n",
    "        sumterm = Q1 @ p1\n",
    "        p[i] = (1/Q[i,i])*(b[i] - sumterm)\n",
    "    print('Iter: ', iter, np.linalg.norm(p-p_old))\n",
    "    # check for convergence\n",
    "    if np.linalg.norm(p-p_old) < 1e-8:\n",
    "        print('p = ', p)\n",
    "        break\n",
    "    else:\n",
    "        p_old = p.copy()"
   ]
  },
  {
   "cell_type": "markdown",
   "metadata": {},
   "source": [
    "## 2.2 Nonlinear equations and equation systems\n",
    "\n",
    "The root of a nonlinear equation system usually has no closed-form solution. Consequently various numerical methods addressing the issue of root-finding have been invented. In this section, we introduce a very simple one-dimensional method called bisection search, As this method converges slowly, we show how to speed it up by using Newton's method. We then discuss some modifications of Newton's algorithm and show the very general class of fixed-point iteration methods. "
   ]
  },
  {
   "cell_type": "markdown",
   "metadata": {},
   "source": [
    "> **Example** Suppose the demand function in a goods market is given by \n",
    "$$q^d(p)=0.5p^{-0.2}+0.5p^{-0.5},$$ where the first term denotes domestic demand the second term export demand. Supply should be inelastic and given by $q^s=2$ units. At what price $p^*$ does the market clear? Setting supply equal to demand leads to the equation $$0.5p^{-0.2}+0.5p^{-0.5}=2$$ which can be reformulated as $$f(p)=0.5p^{-0.2}+0.5p^{-0.5}-2=0.$$ This exactly was the form $f(p)=0$ described above. The market clearing price consequently is the solution to a nonlinear equation. Not that it is no possible to derive an analytical solition to this problem. Hence, we need a numerical method to solve for $p^*$."
   ]
  },
  {
   "cell_type": "markdown",
   "metadata": {},
   "source": [
    "### 2.2.1 Bisection search in one dimension\n",
    "\n",
    "Program 2.5 shows how to find the equilibium price in the above example by using bisection search.\n",
    "The program proceeds as follows: We first have to make an initial guess of the interval in which the actual root of $f$ is located. We chose $a_0=0.05$ and $b_0=0.25$ in our case. We then calculate function values at the interval endpoints and check whether our condition for a root of $f$ in $[a_0,b_0]$ is satisfied. If not, we write an error message to the console and abort the program."
   ]
  },
  {
   "cell_type": "code",
   "execution_count": 333,
   "metadata": {},
   "outputs": [],
   "source": [
    "def bisect(f, inita, initb, tol):\n",
    "    # Check whether [a,b] bound a root\n",
    "    if f(inita)*f(initb) < 0:\n",
    "        print(\"The scalars a and b do not bound a root\")\n",
    "        \n",
    "    fval = tol + 1.0 # we need a initial value of f\n",
    "    a = inita # initial value of a\n",
    "    b = initb # initial value of b\n",
    "    \n",
    "    while abs(fval) > tol:\n",
    "        m = (a+b)/2.0\n",
    "        fval = f(m)\n",
    "        if f(a)*fval < 0.0:\n",
    "            b = m\n",
    "        else:\n",
    "            a = m\n",
    "        print(\"a=%5.15e, b=%5.15e, m=%5.15e, f(m)=%5.15e\"%(a,b,m,f(m)))\n",
    "    return m, f(m)"
   ]
  },
  {
   "cell_type": "code",
   "execution_count": 334,
   "metadata": {},
   "outputs": [],
   "source": [
    "def f(x):\n",
    "    \n",
    "    f = 0.5 * x ** (-0.2) + 0.5 * x ** (-0.5) - 2\n",
    "    \n",
    "    return f"
   ]
  },
  {
   "cell_type": "code",
   "execution_count": 335,
   "metadata": {
    "scrolled": true
   },
   "outputs": [
    {
     "name": "stdout",
     "output_type": "stream",
     "text": [
      "The scalars a and b do not bound a root\n",
      "a=1.500000000000000e-01, b=2.500000000000000e-01, m=1.500000000000000e-01, f(m)=2.171572454676829e-02\n",
      "a=1.500000000000000e-01, b=2.000000000000000e-01, m=2.000000000000000e-01, f(m)=-1.921011805194976e-01\n",
      "a=1.500000000000000e-01, b=1.750000000000000e-01, m=1.750000000000000e-01, f(m)=-9.623461834656322e-02\n",
      "a=1.500000000000000e-01, b=1.625000000000000e-01, m=1.625000000000000e-01, f(m)=-4.053602562256731e-02\n",
      "a=1.500000000000000e-01, b=1.562500000000000e-01, m=1.562500000000000e-01, f(m)=-1.030927225495271e-02\n",
      "a=1.531250000000000e-01, b=1.562500000000000e-01, m=1.531250000000000e-01, f(m)=5.467220304518072e-03\n",
      "a=1.531250000000000e-01, b=1.546875000000000e-01, m=1.546875000000000e-01, f(m)=-2.478563016349744e-03\n",
      "a=1.539062500000000e-01, b=1.546875000000000e-01, m=1.539062500000000e-01, f(m)=1.479765349631013e-03\n",
      "a=1.539062500000000e-01, b=1.542968750000000e-01, m=1.542968750000000e-01, f(m)=-5.030170328050865e-04\n",
      "a=1.541015625000000e-01, b=1.542968750000000e-01, m=1.541015625000000e-01, f(m)=4.874667960268475e-04\n",
      "a=1.541015625000000e-01, b=1.541992187500000e-01, m=1.541992187500000e-01, f(m)=-8.001606457419541e-06\n",
      "a=1.541503906250000e-01, b=1.541992187500000e-01, m=1.541503906250000e-01, f(m)=2.396759287615069e-04\n",
      "a=1.541748046875000e-01, b=1.541992187500000e-01, m=1.541748046875000e-01, f(m)=1.158230001507832e-04\n",
      "a=1.541870117187500e-01, b=1.541992187500000e-01, m=1.541870117187500e-01, f(m)=5.390715728426088e-05\n",
      "a=1.541931152343750e-01, b=1.541992187500000e-01, m=1.541931152343750e-01, f(m)=2.295189060852465e-05\n",
      "a=1.541961669921875e-01, b=1.541992187500000e-01, m=1.541961669921875e-01, f(m)=7.474920884931180e-06\n",
      "a=1.541961669921875e-01, b=1.541976928710938e-01, m=1.541976928710938e-01, f(m)=-2.633980824562343e-07\n",
      "x =  0.15419769287109375 f =  -2.633980824562343e-07\n"
     ]
    }
   ],
   "source": [
    "a = 0.05\n",
    "b = 0.25\n",
    "tol = 1e-6\n",
    "\n",
    "x = bisect(f, a, b, tol)\n",
    "print('x = ', x[0], 'f = ', x[1])"
   ]
  },
  {
   "cell_type": "code",
   "execution_count": 336,
   "metadata": {},
   "outputs": [
    {
     "name": "stdout",
     "output_type": "stream",
     "text": [
      "Iter:  1 0.09999999999999999\n",
      "Iter:  2 0.05000000000000002\n",
      "Iter:  3 0.024999999999999994\n",
      "Iter:  4 0.012499999999999983\n",
      "Iter:  5 0.0062500000000000056\n",
      "Iter:  6 0.0031250000000000167\n",
      "Iter:  7 0.0015624999999999944\n",
      "Iter:  8 0.0007812500000000111\n",
      "Iter:  9 0.0003906249999999778\n",
      "Iter:  10 0.0001953124999999889\n",
      "Iter:  11 9.765624999999445e-05\n",
      "Iter:  12 4.88281250000111e-05\n",
      "Iter:  13 2.4414062499977796e-05\n",
      "Iter:  14 1.2207031249988898e-05\n",
      "Iter:  15 6.1035156250222045e-06\n",
      "Iter:  16 3.0517578125111022e-06\n",
      "Iter:  17 1.5258789062277955e-06\n",
      "Iter:  18 7.629394531138978e-07\n",
      "x =  0.15419692993164064 f =  3.6057475769624148e-06\n"
     ]
    }
   ],
   "source": [
    "##### Program 2.5 Bisection search in one dimension\n",
    "\n",
    "# Import package\n",
    "import numpy as np\n",
    "\n",
    "# Set initial guesses and function values\n",
    "a = 0.05\n",
    "b = 0.25\n",
    "fa = 0.5 * a ** (-0.2) + 0.5 * a ** (-0.5) - 2\n",
    "fb = 0.5 * b ** (-0.2) + 0.5 * b ** (-0.5) - 2\n",
    "\n",
    "# Check whether there is a root in [a,b]\n",
    "if fa * fb >= 0:\n",
    "    print('Error: There is no root in [a, b]')\n",
    "\n",
    "# Start iteration process\n",
    "for iter in range(1,201):\n",
    "    # calculate new bisection point and function value\n",
    "    x = (a + b) / 2\n",
    "    fx = 0.5 * x ** (-0.2) + 0.5 * x ** (-0.5) - 2\n",
    "    print('Iter: ', iter, abs(x-a))\n",
    "    # check for convergence\n",
    "    if abs(x-a) < 1e-6:\n",
    "        print('x = ', x, 'f = ', fx)\n",
    "        break\n",
    "    else:\n",
    "        # calculate new interval\n",
    "        if fa * fx < 0:\n",
    "            b = x\n",
    "            fb = fx\n",
    "        else:\n",
    "            a = x\n",
    "            fa = fx\n",
    "#print('Error: no convergence')"
   ]
  },
  {
   "cell_type": "markdown",
   "metadata": {},
   "source": [
    "### 2.2.2 Newton's method in one dimension\n",
    "\n",
    "One of the best known and most efficient methods to solve a linear equation is the so called <i>Newton method</i>.\n",
    "\n",
    "Starting at an arbitrary point $x_0$, we can approximate $f$ by a first-order Taylor expansion $$\\hat{f}(x)\\approx f(x_0)+f'(x)(x-x_0).$$ As the function value $f(x_0)$ and the derivative $f$ at $x_0$ usually are known, we can easily find the solution to the equation $\\hat{f}(x) = 0$. This solution is given by $$x_1=x_0-\\frac{f(x_0)}{f'(x_0)}.$$ We approximate the function $f$ linearly at the point $x_0$ and find the solution $x_1$ to the approximated equation system. $x_1$ is now closer to the true solution $x^*$ of the equation $f(x)=0$ than $x_0$. By defining the iteration rule $x_{i+1}=x_i-\\frac{f(x_i)}{f'(x_i)}$ and starting with an inital guess $x_0$, we therefore abtain a series of values $x_0, x_1, x_2, ...$ that converges towards $x^*$. We again stop the iteration process, if $x_i$ has sufficiently converged, i.e. $$|x_{i+1}-x_i|=|\\frac{f(x_i)}{f'(x_i)}|< \\varepsilon.$$\n",
    "\n",
    "Program 2.6 demostrates this approach."
   ]
  },
  {
   "cell_type": "code",
   "execution_count": 337,
   "metadata": {},
   "outputs": [],
   "source": [
    "def my_newton(f, df, x0, tol):\n",
    "    # output is an estimation of the root of f \n",
    "    # using the Newton Raphson method\n",
    "    # recursive implementation\n",
    "    if abs(f(x0)) < tol:\n",
    "        return x0\n",
    "    else:\n",
    "        return my_newton(f, df, x0 - f(x0)/df(x0), tol)"
   ]
  },
  {
   "cell_type": "code",
   "execution_count": 338,
   "metadata": {},
   "outputs": [
    {
     "name": "stdout",
     "output_type": "stream",
     "text": [
      "x =  0.1541976402098051 f =  3.6657294977260335e-09\n"
     ]
    }
   ],
   "source": [
    "f_prime = lambda x: - 0.1 * x ** (-1.2) - 0.25 * x ** (-1.5)\n",
    "\n",
    "x0 = 0.05\n",
    "tol = 1e-6\n",
    "\n",
    "estimate = my_newton(f, f_prime, x0, tol)\n",
    "print('x = ', estimate, 'f = ', f(estimate))"
   ]
  },
  {
   "cell_type": "code",
   "execution_count": 339,
   "metadata": {},
   "outputs": [
    {
     "name": "stdout",
     "output_type": "stream",
     "text": [
      "Iter: 1 0.04408732158282293\n",
      "Iter: 2 0.04169009083687783\n",
      "Iter: 3 0.016793114299839235\n",
      "Iter: 4 0.0016146905730098915\n",
      "Iter: 5 1.2422917255200394e-05\n",
      "Iter: 6 7.228309617524076e-10\n",
      "x =  0.15419764093263605 f =  3.6657294977260335e-09\n"
     ]
    }
   ],
   "source": [
    "##### Program 2.6 Newton's method in one dimension\n",
    "\n",
    "# Import package\n",
    "import numpy as np\n",
    "\n",
    "# Set initial guesses\n",
    "xold = 0.05\n",
    "\n",
    "# Start iteration process\n",
    "for iter in range(1,201):\n",
    "    # calculate function value\n",
    "    f = 0.5 * xold ** (-0.2) + 0.5 * xold ** (-0.5) - 2\n",
    "    # calculate derivation\n",
    "    fprime = -0.1 * xold ** (-1.2) - 0.25 * xold ** (-1.5)\n",
    "    # calculate new value\n",
    "    x = xold - f / fprime\n",
    "    print('Iter:', iter, abs(x-xold))\n",
    "    # check for convergence\n",
    "    if abs(x-xold) < 1e-6:\n",
    "        print('x = ', x, 'f = ', f)\n",
    "        break\n",
    "    else:\n",
    "        # copy old value\n",
    "        xold = x\n",
    "    \n",
    "#print('Error: no convergence')"
   ]
  },
  {
   "cell_type": "markdown",
   "metadata": {},
   "source": [
    "Newton's method also comes with disadvantages. First $f$ obviously has to be continuously differentiable at least once, for quadratic convergence even twice. In addition, Newton's algorithm not necessarily converges to the root of $f$. "
   ]
  },
  {
   "cell_type": "markdown",
   "metadata": {},
   "source": [
    "### 2.2.3 Fixed-point iteration methods\n",
    "\n",
    "The most general class of methods we want to introduce for solving one-dimensional, nonlinear equations is the class of <i> fixed-point iteration</i> methods. This method is based n a reformulation of the nonlinear equation. Suppose we transform $f(x)=0$ by multiplying with $\\sigma$ and adding $x$ on both sides into $$x=x+\\sigma f(x)=:g(x).$$ Obviously, the solution $x^*$ to this equation is a fixed point of $g(x)$ and in addition $f(x^*)=0$ holds if $\\sigma \\neq 0$. Hence, the solution to the fixed-point equation $x=g(x)$ is also the solution to the nonlinear equation $f(x)=0$. The fixed point iteration now is defined by $$x_{i+1}=g(x_i)=x_i+\\sigma f(x_i).$$ It can be shown that a fixed-point iteration procedire converges, if $|g'(x^*)|<1$ and the initial guess $x_0$ is close enough to the root $x^*$ of $f$. Convergence speed of a fixed-point iteration stronly depends on the function $g$, i.e. we have $$|x_{i+1}-x_i|=c|x_i-x_{i-1}|^p$$ if the first $p-1$ derivatibes of $g$ at $x^*$ are zero and the $p$th derivative is not equal to zero. As in general $g'(x^*)=1+\\sigma f'(x^*) \\neq 0,$ the above fixed-point iteration will converge linearly towards the actual root of $f$. It is therefore quite slow, however, easy to implement. Program 2.7 shows the fixed-point iteration method for our example."
   ]
  },
  {
   "cell_type": "code",
   "execution_count": 362,
   "metadata": {},
   "outputs": [
    {
     "name": "stdout",
     "output_type": "stream",
     "text": [
      "Root of function x = 0.154198 , f(x) = 0.000000\n"
     ]
    }
   ],
   "source": [
    "##### Program 2.7 Fixed-point iteration in one dimension\n",
    "\n",
    "def my_fixedpoint(f, x0, sigma, tol= 1e-10, maxiter=200, verbose = False):\n",
    "    '''\n",
    "    Output is an estimation of the root of f \n",
    "    using the Fixed-point iteration method\n",
    "    recursive implementation\n",
    "    '''\n",
    "    itr = 0\n",
    "    g = lambda x: x + sigma * f(x)\n",
    "    while(abs(g(x0)-x0) > tol and itr <= maxiter):\n",
    "        x0 = g(x0)\n",
    "        itr = itr + 1\n",
    "        if verbose:\n",
    "            print('iteration = {}, x = {:.11f}, g(x) = {:.11f}, |g(x) - x| = {:.11f}'.format(itr, x0, g(x0),abs(g(x0)-x0)))\n",
    "    if itr <= maxiter:\n",
    "        print('Root of function x = {:.6f} , f(x) = {:.6f}'.format(x0, f(x0)))\n",
    "        return x0\n",
    "    else:\n",
    "        raise ValueError('Fixed point method does not converge!!! Try another sigma or x0!!!')\n",
    "\n",
    "f = lambda x: 0.5 * x ** (-0.2) + 0.5 * x ** (-0.5) - 2\n",
    "\n",
    "x = my_fixedpoint(f, 0.3, 0.3)\n",
    "# x = my_fixedpoint(f, 0.3, 0.3,verbose = True)\n"
   ]
  },
  {
   "cell_type": "code",
   "execution_count": 1,
   "metadata": {
    "scrolled": false
   },
   "outputs": [
    {
     "data": {
      "image/png": "[encoded data removed]",
      "text/plain": [
       "<Figure size 576x576 with 1 Axes>"
      ]
     },
     "metadata": {
      "needs_background": "light"
     },
     "output_type": "display_data"
    }
   ],
   "source": [
    "## Code reference: https://python.quantecon.org/scalar_dynam.html\n",
    "\n",
    "import numpy as np\n",
    "import matplotlib.pyplot as plt\n",
    "%matplotlib inline\n",
    "plt.rcParams[\"figure.figsize\"] = (11, 5)  #set default figure size\n",
    "\n",
    "def subplots(fs):\n",
    "    \"Custom subplots with axes throught the origin\"\n",
    "    fig, ax = plt.subplots(figsize=fs)\n",
    "\n",
    "    # Set the axes through the origin\n",
    "    for spine in ['left', 'bottom']:\n",
    "        ax.spines[spine].set_position(('data',xmin))\n",
    "        ax.spines[spine].set_color('green')\n",
    "    for spine in ['right', 'top']:\n",
    "        ax.spines[spine].set_color('none')\n",
    "\n",
    "    return fig, ax\n",
    "\n",
    "def plot45(g, xmin, xmax, x0, num_arrows=6,fs = (6.5,6), var='x'):\n",
    "\n",
    "    xgrid = np.linspace(xmin, xmax, 200)\n",
    "\n",
    "    fig, ax = subplots(fs)\n",
    "    ax.set_xlim(xmin, xmax)\n",
    "    ax.set_ylim(xmin, xmax)\n",
    "\n",
    "    hw = (xmax - xmin) * 0.01\n",
    "    hl = 2 * hw\n",
    "    arrow_args = dict(fc=\"k\",\n",
    "                      ec=\"k\",\n",
    "                      head_width=hw,\n",
    "                      length_includes_head=True,\n",
    "                      lw=.5,\n",
    "                      alpha=0.6,\n",
    "                      head_length=hl)\n",
    "\n",
    "    ax.plot(xgrid, g(xgrid), 'b-', lw=2, alpha=0.6, label='g')\n",
    "    ax.plot(xgrid, xgrid, 'k-', lw=1, alpha=0.7, label='45')\n",
    "\n",
    "    x = x0\n",
    "    xticks = [xmin]\n",
    "    xtick_labels = [xmin]\n",
    "\n",
    "    for i in range(num_arrows):\n",
    "        if i == 0:\n",
    "            ax.arrow(x, 0.0, 0.0, g(x), **arrow_args) # x, y, dx, dy\n",
    "        else:\n",
    "            ax.arrow(x, x, 0.0, g(x) - x, **arrow_args)\n",
    "            ax.plot((x, x), (0, x), 'k', ls='dotted')\n",
    "        ax.arrow(x, g(x), g(x) - x, 0, **arrow_args)\n",
    "        xticks.append(x)\n",
    "        xtick_labels.append(r'${}_{}$'.format(var, str(i)))\n",
    "\n",
    "        x = g(x)\n",
    "        xticks.append(x)\n",
    "        xtick_labels.append(r'${}_{}$'.format(var, str(i+1)))\n",
    "    xticks.append(xmax)\n",
    "    xtick_labels.append(xmax)\n",
    "    ax.set_xticks(xticks)\n",
    "    ax.set_yticks(xticks)\n",
    "    ax.set_xticklabels(xtick_labels)\n",
    "    ax.set_yticklabels(xtick_labels)\n",
    "    \n",
    "    bbox = (0., 1.04, 1., .104)\n",
    "    legend_args = {'bbox_to_anchor': bbox, 'loc': 'upper right'}\n",
    "\n",
    "    ax.legend(ncol=2, frameon=False, **legend_args, fontsize=14)\n",
    "    plt.show()\n",
    "\n",
    "\n",
    "xmin = 0.11\n",
    "xmax = 0.2\n",
    "f = lambda x: 0.5 * x ** (-0.2) + 0.5 * x ** (-0.5) - 2\n",
    "g = lambda x: x + 0.3 * f(x)\n",
    "plot45(g, xmin, xmax,0.12,fs = (8,8))    \n",
    "\n",
    "## Uncomment code below to test for other general functions\n",
    "# xmin = 0.0\n",
    "# xmax = 2\n",
    "# A, s, alpha, delta = 2, 0.3, 0.3, 0.4\n",
    "# g = lambda x: A * s * x**alpha + (1 - delta) * x\n",
    "# plot45(g, xmin, xmax,0.12,fs = (8,8))"
   ]
  },
  {
   "cell_type": "markdown",
   "metadata": {},
   "source": [
    "### 2.2.4 Multidimensional nonlinear equation systems\n",
    "\n",
    "For finding the root of a multidimensional equation system we use the so-called <i>Broyden's method</i>, which is the most popular multivariate generalization of the univariate secant method. This method is also called a <i> quasi-Newton method</i> as it apptoximates the Jaconi matrix of $f$ in order to find the function's root. For demonstrating the use of Broyden's algorithm we consider another example."
   ]
  },
  {
   "cell_type": "markdown",
   "metadata": {},
   "source": [
    "> <b>Example</b> Two firms compete in a simple Cournot duopoly with the inverse demand and the cost functions $$P(q) = q^{-\\frac{1}{\\eta}} \\quad C_k(q_k)=\\frac{c_k}{2}q_k^2 \\quad \\text{for firm} \\quad k=1,2 \\quad \\text{with} \\quad q=q_1+q_2.$$ Given the profit functions of the two firms $$\\Pi_k(q_1, q_2) = P(q_1+q_2)q_k-C_k(q_k)$$ each firm $k$ takes the other firm's output as given and chooses its own output level in order to solve $$\\frac{\\partial \\Pi_k}{\\partial q_k} = f(q) = (q_1+q_2)^{-\\frac{1}{\\eta}}-\\frac{1}{\\eta}(q_1+q_2)^{-\\frac{1}{\\eta}}q_k-c_kq_k = 0 \\quad \\text{with} \\quad k=1,2.$$\n",
    "\n",
    "Program 2.8 shows how to implements Broyden's method."
   ]
  },
  {
   "cell_type": "code",
   "execution_count": 343,
   "metadata": {},
   "outputs": [
    {
     "name": "stdout",
     "output_type": "stream",
     "text": [
      "Firm 1:  0.8395676035356583\n",
      "Firm 2:  0.688796431163002\n",
      "Price:  0.7671110596740338\n"
     ]
    }
   ],
   "source": [
    "##### Program 2.8 Multidimensional root-finding\n",
    "\n",
    "# Import package\n",
    "import numpy as np\n",
    "from scipy.optimize import fsolve\n",
    "\n",
    "# Initialize q and function parameters\n",
    "q0 = ([0.1,0.1])\n",
    "eta = 1.6\n",
    "c = ([0.6, 0.8])\n",
    "\n",
    "# Function that defines the oligopoly equations\n",
    "def Cournot(q):\n",
    "    return sum(q) ** (-1/eta) - (1/eta) * sum(q) ** (-(1/eta) - 1) * q - c * q\n",
    "\n",
    "# Find root\n",
    "q = fsolve(Cournot, q0)\n",
    "\n",
    "# Output\n",
    "print('Firm 1: ', q[0])\n",
    "print('Firm 2: ', q[1])\n",
    "print('Price: ', (sum(q) ** (-1/eta)))"
   ]
  },
  {
   "cell_type": "markdown",
   "metadata": {},
   "source": [
    "<b> Gauss-Seidel Iteration</b> In order to implement an iteration process we reformulate the zero-profit conditions as \\begin{equation}\n",
    "\\begin{split}\n",
    "q_{1,i+1} &= \\frac{1}{c_1}\\{(q_{1,i}+q_{2,i})^{-\\frac{1}{\\eta}}-\\frac{1}{\\eta}(q_{1,i}+q_{2,i})^{-\\frac{1}{\\eta}-1}q_{1,i} \\} \\\\\n",
    "q_{2,i+1} &= \\frac{1}{c_2}\\{(q_{1,i}+q_{2,i})^{-\\frac{1}{\\eta}}-\\frac{1}{\\eta}(q_{1,i}+q_{2,i})^{-\\frac{1}{\\eta}-1}q_{2,i} \\}\n",
    "\\end{split}\n",
    "\\end{equation}\n",
    "where $q_{k,i+1}$ is the $i$th iterate of $q_k$. Starting with an initial guess $q_{k,0}$ the algorigm computes in each iteration $i$ new values for the quantities $q_k$ and then a new guess $q_{k, i+1}$ for the next iteration. Typically, the new guess is a linear comnbination of the old guess and the computed value, i.e. $$q_{k,i+1}=\\omega q_{k,i+1} + (1-\\omega)q_{k,i} \\quad \\text{with} \\quad o<\\omega \\leq 1.$$\n",
    "Program 2.9 shows how the Cournot duopoly problem could be solved by iteration."
   ]
  },
  {
   "cell_type": "code",
   "execution_count": 344,
   "metadata": {},
   "outputs": [],
   "source": [
    "import numpy as np\n",
    "\n",
    "def gauss_seidel(A, b, tolerance=1e-10, max_iterations=10000):\n",
    "    \n",
    "    x = np.zeros_like(b, dtype=np.double)\n",
    "    \n",
    "    #Iterate\n",
    "    for k in range(max_iterations):\n",
    "        \n",
    "        x_old  = x.copy()\n",
    "        \n",
    "        #Loop over rows\n",
    "        for i in range(A.shape[0]):\n",
    "            x[i] = (b[i] - np.dot(A[i,:i], x[:i]) - np.dot(A[i,(i+1):], x_old[(i+1):])) / A[i ,i]\n",
    "            \n",
    "        #Stop condition \n",
    "        if np.linalg.norm(x - x_old, ord=np.inf) / np.linalg.norm(x, ord=np.inf) < tolerance:\n",
    "            break\n",
    "            \n",
    "    return x\n",
    "\n",
    "#ref: Numerical Methods and Programming, retrieved from \n",
    "#https://johnfoster.pge.utexas.edu/numerical-methods-book/LinearAlgebra_IterativeSolvers.html"
   ]
  },
  {
   "cell_type": "code",
   "execution_count": 345,
   "metadata": {},
   "outputs": [
    {
     "name": "stdout",
     "output_type": "stream",
     "text": [
      "Iter: 1 [2.22318741 1.67489056]\n",
      "Iter: 2 [0.98776309 0.7759402 ]\n",
      "Iter: 3 [0.82822044 0.67777083]\n",
      "Iter: 4 [0.84125168 0.69021819]\n",
      "Iter: 5 [0.83933567 0.68860556]\n",
      "Iter: 6 [0.83959954 0.68882264]\n",
      "Iter: 7 [0.83956321 0.68879283]\n",
      "Iter: 8 [0.83956821 0.68879693]\n",
      "Iter: 9 [0.83956752 0.68879636]\n",
      "Iter: 10 [0.83956761 0.68879644]\n",
      "Iter: 11 [0.8395676  0.68879643]\n",
      "Iter: 12 [0.8395676  0.68879643]\n",
      "Iter: 13 [0.8395676  0.68879643]\n",
      "Iter: 14 [0.8395676  0.68879643]\n",
      "Iter: 15 [0.8395676  0.68879643]\n",
      "Iter: 16 [0.8395676  0.68879643]\n",
      "Iter: 17 [0.8395676  0.68879643]\n",
      "Iter: 18 [0.8395676  0.68879643]\n",
      "Iter: 19 [0.8395676  0.68879643]\n",
      "Iter: 20 [0.8395676  0.68879643]\n",
      "Iter: 21 [0.8395676  0.68879643]\n",
      "Iter: 22 [0.8395676  0.68879643]\n",
      "Iter: 23 [0.8395676  0.68879643]\n",
      "Output: [0.8395676  0.68879643]\n"
     ]
    }
   ],
   "source": [
    "##### Program 2.9 Gauss-Seidel iteration\n",
    "\n",
    "# Import package\n",
    "import numpy as np\n",
    "\n",
    "# Initialize q and function parameters\n",
    "eta = 1.6\n",
    "c = ([0.6, 0.8])\n",
    "qold = np.zeros(2) + 0.1\n",
    "damp = np.zeros(2) + 0.7\n",
    "\n",
    "for iter in range(1,201):\n",
    "    q = (sum(qold) ** (-1/eta) - (1/eta) * sum(qold) ** (-1/eta - 1) * qold) / c\n",
    "    q = damp * q + (1 - damp) * qold\n",
    "    # write to screen\n",
    "    print('Iter:', iter, q)\n",
    "    # Check for convergence\n",
    "    if np.ma.all(abs(q-qold)) < 1e-6:\n",
    "        print('Output:', q)\n",
    "        break\n",
    "    else:\n",
    "        # update q\n",
    "        qold = q"
   ]
  },
  {
   "cell_type": "markdown",
   "metadata": {},
   "source": [
    "## 2.3 Function minimization\n",
    "\n",
    "> <b>Example</b> A household can consume two goods $x_1$ and $x_2$. It values the consumption of those goods with the joint utility function $$u(x_1, x_2)=x_1^{0.4}+(1+x_2)^{0.5}.$$ Here $x_2$ acts as a luxury good, i.e. the household will only consume that $x_2$, if its available resources $W$ are large enough. $x_1$ on the other hand is a normal good and will always be consumed. Naturally, we have to assume that $x_1, x_2\\geq0$. With the prices for the goods being $p_1$ and $p_2$, the household has to solve the optimization problem $$\\max_{x_1, x_2 \\geq 0} x_1^{0.4}+(1+x_2)^{0.5} \\quad \\text{s.t.} \\quad p_1x_1+p_2x_2 = W.$$ Note that there is no analytical solution to this problem."
   ]
  },
  {
   "cell_type": "markdown",
   "metadata": {},
   "source": [
    "### 2.3.1 The Golden-Search method\n",
    "\n",
    "The <i> Golden-Search method</i> minimizes a one-dimensional function on the initially defined interval $[a,b]$. The idea behind this method is quite similar to the one of bisection search. Golden-search, however, devides in each iteration $i$ the interval $[a_i, b_i]$ into two subintervals by using the points $x_{i,1}$ and $x_{i,2}$ which satisfy the conditions $$x_{i,2}-a_i = b_i-x_{i,1} \\quad \\text{and}\\quad \\frac{x_{i,1}-a_i}{b_i-a_i}=\\frac{x_{i,2}-x_{i,1}}{b_i-x_{i,1}}.$$ The next iteration's interval is then chosen according to \\begin{equation}\n",
    "\\begin{split}\n",
    "a_{i+1} & = a_i \\quad \\text{and} \\quad b_{i+1} = x_{i,2} \\quad \\quad \\text{if} \\quad f(x_{i,1})<f(x_{i,2}), \\\\\n",
    "a_{i+1} & = x_{i,1} \\quad \\text{and} \\quad b_{i+1} = b_i \\quad \\quad \\quad \\quad \\text{otherwise.}\n",
    "\\end{split}\n",
    "\\end{equation}\n",
    "The idea behind this iteration rule is: If $f(x_{i,1})<f(x_{i,2})$, the lower values of $f$ will be closer to $x_{i,1}$ than to $x_{i,2}$. Consequently, one choose the interval $[a_i, x_{i,2}]$ as the new iteration interval and therefore tules out the greter values of $f$.\n",
    "Program 2.10 shows how to apply the Golden-Search method to the above problem."
   ]
  },
  {
   "cell_type": "code",
   "execution_count": 346,
   "metadata": {},
   "outputs": [
    {
     "name": "stdout",
     "output_type": "stream",
     "text": [
      "x1 =  1.6131967131840805\n",
      "x2 =  -0.30659835659204027\n",
      "u  =  2.043514440866734\n"
     ]
    }
   ],
   "source": [
    "import numpy as np\n",
    "from scipy.optimize import golden\n",
    "\n",
    "# Initial interval and function values\n",
    "p = ([1,2])\n",
    "W = 1 # Normalize the available resources W = 1\n",
    "a = 0 # a = 0 restricts x2 to be non-negative\n",
    "b = W / p[1] # Gurantee that x1 is non-negative\n",
    "\n",
    "# Set starting point\n",
    "x0 = (a + b) / 2.0 # Set the initial point to be the midpoint of the initial interval\n",
    "\n",
    "# The utility function\n",
    "def utility(x):\n",
    "    return -(((W - p[1] * x) / p[0]) ** 0.4 + (1 + x) ** 0.5)\n",
    "\n",
    "\n",
    "minimum = golden(utility, brack = (a,b)) # Specifing an initial interval (a,b) \n",
    "\n",
    "# Output\n",
    "print('x1 = ', (W - p[1] * minimum) / p[0])\n",
    "print('x2 = ', minimum)\n",
    "print('u  = ', -utility(minimum))\n",
    "# Note that the scipy.optimize.golden can only search for the global minima"
   ]
  },
  {
   "cell_type": "code",
   "execution_count": 347,
   "metadata": {},
   "outputs": [
    {
     "name": "stdout",
     "output_type": "stream",
     "text": [
      "Iter: 1 0.495\n",
      "Iter: 2 0.30592682443119795\n",
      "Iter: 3 0.18907317556880207\n",
      "Iter: 4 0.11685364886239592\n",
      "Iter: 5 0.07221952670640618\n",
      "Iter: 6 0.04463412215598977\n",
      "Iter: 7 0.027585404550416415\n",
      "Iter: 8 0.017048717605573357\n",
      "Iter: 9 0.01053668694484306\n",
      "Iter: 10 0.0065120306607303\n",
      "Iter: 11 0.004024656284112761\n",
      "Iter: 12 0.0024873743766175398\n",
      "Iter: 13 0.0015372819074952215\n",
      "Iter: 14 0.0009500924691223187\n",
      "Iter: 15 0.000587189438372903\n",
      "Iter: 16 0.00036290303074941585\n",
      "Iter: 17 0.00022428640762348724\n",
      "Iter: 18 0.00013861662312592867\n",
      "Iter: 19 8.566978449755861e-05\n",
      "Iter: 20 5.294683862837006e-05\n",
      "Iter: 21 3.2722945869188566e-05\n",
      "Iter: 22 2.0223892759181505e-05\n",
      "Iter: 23 1.2499053110007062e-05\n",
      "Iter: 24 7.724839649174444e-06\n",
      "Iter: 25 4.774213460832621e-06\n",
      "Iter: 26 2.9506261883418247e-06\n",
      "Iter: 27 1.8235872724907965e-06\n",
      "Iter: 28 1.1270389158510284e-06\n",
      "Iter: 29 6.965483566397682e-07\n",
      "x1 =  0.9999994678844052\n",
      "x2 =  2.660577974285079e-07\n",
      "u  =  1.999999920182618\n"
     ]
    }
   ],
   "source": [
    "##### Program 2.10 Golden-Search method in one dimension\n",
    "\n",
    "# Import package\n",
    "import numpy as np\n",
    "import math\n",
    "\n",
    "# Initial interval and function values\n",
    "p = ([1,2])\n",
    "W = 1\n",
    "a = 0\n",
    "b = (W - p[0] * 0.01) / p[1]\n",
    "\n",
    "# Start iteration process\n",
    "for iter in range(1,201):\n",
    "    # calculate x1 and x2 and function values\n",
    "    x1 = a + (3 - math.sqrt(5)) / 2 * (b-a)\n",
    "    x2 = a + (math.sqrt(5) - 1) / 2 * (b-a)\n",
    "    f1 = - (((W - p[1] * x1)/ p[0]) ** 0.4 + (1 + x1) ** 0.5)\n",
    "    f2 = - (((W - p[1] * x2)/ p[0]) ** 0.4 + (1 + x2) ** 0.5)\n",
    "    print('Iter:', iter, abs(b-a))\n",
    "    # check for convergence\n",
    "    if abs(b-a) < 1e-6:\n",
    "        print('x1 = ', (W-p[1]*x1)/p[0])\n",
    "        print('x2 = ', x1)\n",
    "        print('u  = ', -f1)\n",
    "        break\n",
    "    else:\n",
    "        # get new values\n",
    "        if f1 < f2:\n",
    "            b = x2\n",
    "        else:\n",
    "            a = x1\n"
   ]
  },
  {
   "cell_type": "markdown",
   "metadata": {},
   "source": [
    "### 2.3.2 Brent's and Powell's algorithms\n",
    "\n",
    "The problem with Golden-Search is its slow convergence. Therefore the function $f$ needs to be upon quite frequently. For well-behaved functions a more sophisticated algorithm is based on <i>Brent's method</i>. It relies on parabolic apprpmimations $\\hat{h}$ of he actual function $f$. Finding the minimum of a parabola is quite easy. "
   ]
  },
  {
   "cell_type": "code",
   "execution_count": 348,
   "metadata": {},
   "outputs": [
    {
     "name": "stdout",
     "output_type": "stream",
     "text": [
      "Optimization terminated successfully.\n",
      "         Current function value: -2.043514\n",
      "         Iterations: 17\n",
      "         Function evaluations: 34\n",
      "x1 =  1.6132812500000009\n",
      "x2 =  -0.30664062500000044\n",
      "u  =  2.0435144400820557\n",
      "x1 =  1.6131967723905305\n",
      "x2 =  -0.30659838619526525\n",
      "u  =  2.0435144408667343\n",
      "x1 =  1.6131967723905305\n",
      "x2 =  -0.30659838619526525\n",
      "u  =  2.0435144408667343\n"
     ]
    }
   ],
   "source": [
    "##### Program 2.11 Brent and Powell for finding minima\n",
    "\n",
    "# Import package\n",
    "import numpy as np\n",
    "from scipy.optimize import fmin, brent, minimize_scalar\n",
    "\n",
    "# Initial interval and function values\n",
    "p = ([1,2])\n",
    "W = 1\n",
    "a = 0\n",
    "b = (W - p[0] * 0.01) / p[1]\n",
    "\n",
    "# The utility function\n",
    "def utility(x):\n",
    "    return -(((W - p[1] * x) / p[0]) ** 0.4 + (1 + x) ** 0.5)\n",
    "\n",
    "# Code 1, fmin\n",
    "res = fmin(utility, x0)\n",
    "# Output\n",
    "print('x1 = ', (W - p[1] * res[0]) / p[0])\n",
    "print('x2 = ', res[0])\n",
    "print('u  = ', -utility(res[0]))\n",
    "\n",
    "# Code 2, brent\n",
    "minimum = brent(utility, brack = (a,b))\n",
    "# Output\n",
    "print('x1 = ', (W - p[1] * minimum) / p[0])\n",
    "print('x2 = ', minimum)\n",
    "print('u  = ', -utility(minimum))\n",
    "\n",
    "# Code 3, minimize_scalar\n",
    "result = minimize_scalar(utility, bracket = (a,b), method = 'brent')\n",
    "# Output\n",
    "print('x1 = ', (W - p[1] * result.x) / p[0])\n",
    "print('x2 = ', result.x)\n",
    "print('u  = ', -result.fun)"
   ]
  },
  {
   "cell_type": "markdown",
   "metadata": {},
   "source": [
    "### 2.4.1 Summed Newton-Cotes Methods\n",
    "\n",
    "In this section we set $w(x) = 1.$ A weighted integral can then simply be computed by approximating $$\\int_a^b f(x)dx.$$ Summed Newton-Cotes formulas partition the interval $[a,b]$ into $n$ subintervals of equal length $h$ by computing the quadrature nodes $$x_i: =a+ih, \\quad i=0,1,...,n, \\quad h:=\\frac{b-a}{n}.$$ Next, the function $f$ on every subinterval $[x_i, x_{i+1}]$ is approximated with a polynomial of degree $k$. Finally, we integrate the approximating polynomial on every subinterval and sum up all the resulting sub-areas. \n",
    "\n",
    "Program 2.12 shows how to apply the summed trapezoid rule to the function $cos(x)$. We thereby first declare all the variables needed. Special attention should be devoted to the declaration of $x, w$, and $f$. These arrays will store the quadrature nodes $x_i$, the weights the nodes $x_i=a+ih$ and the weights $w_i$ as in $w_0 = w_n = \\frac{h}{2} \\quad \\text{and} \\quad w_i = h \\quad \\text{for} \\quad i=1,2,...,n-1.$ With the respective function values, the approximation to the interval $$\\int_0^2 cos(x) dx = sin(2)-sin(0).$$"
   ]
  },
  {
   "cell_type": "code",
   "execution_count": 349,
   "metadata": {},
   "outputs": [
    {
     "name": "stdout",
     "output_type": "stream",
     "text": [
      "Numerical:  0.9062644128156156\n",
      "Analytical:  0.9092974268256817\n"
     ]
    }
   ],
   "source": [
    "##### Program 2.12 Summed trapezoid rule with cos(x)\n",
    "\n",
    "# Import package\n",
    "import numpy as np\n",
    "import math\n",
    "\n",
    "# Initial parameters\n",
    "n = 10\n",
    "a = 0 \n",
    "b = 2\n",
    "h = (b - a) / n\n",
    "x = np.zeros((n+1)) + a + h * np.arange(n+1)\n",
    "\n",
    "# Get weights\n",
    "w = np.zeros((n+1))\n",
    "w[0] = h / 2\n",
    "w[n] = h / 2\n",
    "w[1:n] = h\n",
    "f = []\n",
    "\n",
    "# Calculate function values at nodes\n",
    "for i in range(len(x)): \n",
    "    f.append(math.cos(x[i])) \n",
    "\n",
    "# Output numerical and analytical solution\n",
    "print('Numerical: ', sum(w*f))\n",
    "print('Analytical: ', math.sin(2)-math.sin(0))"
   ]
  },
  {
   "cell_type": "markdown",
   "metadata": {},
   "source": [
    "### 2.4.2 Guassian Quadrature\n",
    "\n",
    "Contrary to the Newton-Cotes methods, <i>Gaussian quadrature</i> explicitly allows for nonconstant weight functions $w(x)$. In addition, such methods don't try to approximate the function $f$, but rathter determine weights and nodes such that particular moments with respect to the weighting function $w$ are matched perfectly."
   ]
  },
  {
   "cell_type": "code",
   "execution_count": 350,
   "metadata": {},
   "outputs": [
    {
     "name": "stdout",
     "output_type": "stream",
     "text": [
      "Numerical:  0.9092974268256817\n",
      "Analytical:  0.9092974268256817\n"
     ]
    }
   ],
   "source": [
    "##### Program 2.13 Gauss-Legendre quadrature with cos(x)\n",
    "\n",
    "# Import package\n",
    "import numpy as np\n",
    "import math\n",
    "from numpy.polynomial import legendre\n",
    "\n",
    "# Initial values\n",
    "n = 10\n",
    "a = 0\n",
    "b = 2\n",
    "f = lambda x: np.cos(x)\n",
    "\n",
    "# Gauss-Legendre (default interval is [-1, 1])\n",
    "x, w = legendre.leggauss(n)\n",
    "\n",
    "# Translate x values from the interval [-1, 1] to [a, b]\n",
    "t = 0.5*(x + 1)*(b - a) + a\n",
    "gauss = f((x + 1) * (b - a) / 2 + a)\n",
    "\n",
    "# Output\n",
    "print('Numerical: ', sum(w*gauss))\n",
    "print('Analytical: ', math.sin(2)-math.sin(0))"
   ]
  },
  {
   "cell_type": "markdown",
   "metadata": {},
   "source": [
    "><b>Example</b> Consider an agricultural commodity market, where planting decisions are based on the price expected at harvest $$A=0.5+0.5E(p),$$ with $A$ denoting acreage supply and $E(p)$ defining expected price. After the acreage is planted, a normally distributed random yield $y~N(1,0.1)$ is realized, giving rise to the quantity $q^s=Ay$ whihc is sold at the market clearing price $p=3-2q^s$. In order to solve this system we substitute $$q^s = [0.5+0.5E(p)]y$$ and therefore $$p=3-2[0.5+0.5E(p)]y.$$ Taking expectations on both sides leads to $$E(p)=3-2[0.5+0.5E(p)]E(y)$$ and therefore $E(p)=1$. Consequently, equilibrium acreage is $A=1$. Finally, the equilibrium price distribution has a variance of $$E(p)=E[max(3-2Ay,1)].$$ The equilibrium acreage supply finally is the supply A that fulfils $A=0.5+0.5E(p)$ with the above price expectation. Again, this problem cannot be solved analytically."
   ]
  },
  {
   "cell_type": "code",
   "execution_count": 351,
   "metadata": {},
   "outputs": [
    {
     "name": "stdout",
     "output_type": "stream",
     "text": [
      "A      =  [1.47466817]\n",
      "E(p)   =  1.9493363457644117\n",
      "Var(p) =  30.895623975980065\n"
     ]
    }
   ],
   "source": [
    "##### Program 2.14 Agricultural problem\n",
    "\n",
    "# Import package\n",
    "import numpy as np\n",
    "import math\n",
    "from scipy.optimize import fsolve\n",
    "from scipy.stats import norm\n",
    "\n",
    "# Initial values\n",
    "mu = 1\n",
    "sig2 = 0.1\n",
    "minp = 1\n",
    "n = 10\n",
    "A0 = 1\n",
    "sigma = np.sqrt(sig2)\n",
    "\n",
    "# Discritize y\n",
    "y = norm.rvs(size=n,loc=mu,scale=sigma)\n",
    "w = norm.pdf(y,loc=mu,scale=sigma)\n",
    "for i in range(0,n):\n",
    "    w[i] = w[i]/sum(w)\n",
    "    \n",
    "# Define market function\n",
    "def marketfun(x):\n",
    "    p = (3-2*x*y)\n",
    "    max_res = []\n",
    "    for i in range(n):\n",
    "        max_res.append(max(p[i], minp))\n",
    "    Ep = sum(w * max_res)\n",
    "    market = x - (0.5 + 0.5 * Ep)\n",
    "    return market\n",
    "\n",
    "# Get optimum\n",
    "A = fsolve(marketfun,A0)\n",
    "\n",
    "# Get expectation and variance of price\n",
    "p = (3-2*A*y)\n",
    "max_res = []\n",
    "for i in range(n):\n",
    "    max_res.append(max(p[i], minp))\n",
    "Ep = sum(w * max_res)\n",
    "Varp = sum((w * max_res - Ep) ** 2)\n",
    "\n",
    "# Output\n",
    "print('A      = ', A)\n",
    "print('E(p)   = ', Ep)\n",
    "print('Var(p) = ', Varp)"
   ]
  },
  {
   "cell_type": "markdown",
   "metadata": {},
   "source": [
    "## 2.5 Random variables, distributions, and simulation\n",
    "\n",
    "1. <i> Uniform distribution</i>: A random variable that is uniformly distributed on the interval $[a,b]$ has the probability density function $$\\phi(z)=\\begin{cases}\n",
    "\\frac{q}{b-a} & \\text{ if } z \\in [a,b], \\quad \\text{and} \\\\ \n",
    "0 & \\text{ otherwise. }\n",
    "\\end{cases}$$\n",
    "The mean and variance of the uniform distribution are $$E(\\tilde{x})=\\frac{a+b}{2} \\quad \\text{and} \\quad Var(\\tilde{x})=\\frac{(b-a)^2}{12}.$$\n",
    "\n",
    "2. <i> Normal distribution</i>: A normally distributed random variable has the density $$\\phi(z)=\\frac{1}{\\sqrt{2\\pi \\delta^2}} exp(-\\frac{(z-\\mu)^2}{2\\delta^2}).$$ with moments $$E(\\tilde{x})=\\mu \\quad \\text{and} \\quad Var(\\tilde{x})=\\delta^2.$$\n",
    "\n",
    "3. <i> Log-normal distribution</i>: A random variable is log-normally ditributed, when its log follows a normal distribution. The corresponding probability density function is $$\\phi(z)=\\begin{cases}\n",
    "\\frac{1}{z\\sqrt{2\\pi \\delta^2}} exp(-\\frac{(log(z)-\\mu)^2}{2\\delta^2}) & \\text{ if } z\\geq 0, \\quad \\text{and} \\\\ \n",
    "0 & \\text{ otherwise. }\n",
    "\\end{cases}$$ Its moments are $$E(\\tilde{x})=exp(\\mu+\\frac{\\delta^2}{2}) \\quad \\text{and} \\quad Var(\\tilde{x})=exp(2\\mu+\\delta^2)[exp(\\delta^2)-1].$$\n",
    "\n",
    "4. <i> Binomial distribution</i>: A binomial ditributed random variable is the sum of $n$ independent Bernoulli-distributed random variables. One can think, for example, of tossing a coin $n$ times and counting the number of heads that occured. The corresponding probability distribution is $$P(\\tilde{x}=z)=\\binom{n}{z}p^z(1-p)^{n-z} \\quad \\text{for} z\\in{0,1,..., n}.$$ $\\binom{n}{z}$ thereby denotes the binomial coefficient. Mean and variance of the binomial distribution are $$E(\\tilde{x})=np \\quad \\text{and} \\quad Var(\\tilde{x})=np(1-p).$$\n",
    "\n",
    "Program 2.15 shows how 1. 3. 4. can be ploted."
   ]
  },
  {
   "cell_type": "code",
   "execution_count": 352,
   "metadata": {},
   "outputs": [
    {
     "data": {
      "text/plain": [
       "Text(0.5, 1.0, 'Binomial Distribution')"
      ]
     },
     "execution_count": 352,
     "metadata": {},
     "output_type": "execute_result"
    },
    {
     "data": {
      "image/png": "[encoded data removed]",
      "text/plain": [
       "<Figure size 432x288 with 1 Axes>"
      ]
     },
     "metadata": {
      "needs_background": "light"
     },
     "output_type": "display_data"
    },
    {
     "data": {
      "image/png": "[encoded data removed]",
      "text/plain": [
       "<Figure size 432x288 with 1 Axes>"
      ]
     },
     "metadata": {
      "needs_background": "light"
     },
     "output_type": "display_data"
    },
    {
     "data": {
      "image/png": "[encoded data removed]",
      "text/plain": [
       "<Figure size 432x288 with 1 Axes>"
      ]
     },
     "metadata": {
      "needs_background": "light"
     },
     "output_type": "display_data"
    }
   ],
   "source": [
    "##### Program 2.15 Density and cumulative distribution functions\n",
    "%matplotlib inline \n",
    "\n",
    "# Import package\n",
    "import numpy as np\n",
    "import math\n",
    "from scipy.stats import uniform, lognorm, binom\n",
    "import matplotlib.pyplot as plt\n",
    "\n",
    "# Initial set up\n",
    "NN = 1000\n",
    "\n",
    "# Uniform distribution\n",
    "a = -1\n",
    "b = 1\n",
    "z = np.linspace(a-0.5, b+0.5, NN)\n",
    "uniform_distribution = uniform(loc=a, scale=(b-a))\n",
    "dens = uniform_distribution.pdf(z)\n",
    "dist = uniform_distribution.cdf(z)\n",
    "\n",
    "fig, ax = plt.subplots(1, 1)\n",
    "ax.plot(z, dens, 'r-', label='Density')\n",
    "ax.plot(z, dist, 'k-', label='Distribution')\n",
    "plt.legend()\n",
    "plt.title('Uniform Distribution')\n",
    "\n",
    "# Log-normal distribution\n",
    "mu = 1\n",
    "sigma = 0.25\n",
    "z = np.linspace(0, mu+5*np.sqrt(sigma), NN)\n",
    "lognorm_distribution = lognorm(1, loc=np.sqrt(sigma), scale=np.exp(mu))\n",
    "dens = lognorm_distribution.pdf(z)\n",
    "dist = lognorm_distribution.cdf(z)\n",
    "\n",
    "fig, bx = plt.subplots(1, 1)\n",
    "bx.plot(z, dens, 'r-', label='Density')\n",
    "bx.plot(z, dist, 'k-', label='Distribution')\n",
    "plt.legend()\n",
    "plt.title('Log-Normal Distribution')\n",
    "\n",
    "# Binomial distribution\n",
    "p = 0.25\n",
    "n = 12\n",
    "z = np.linspace(0,n,n)\n",
    "binomial_distribution = binom(n, p)\n",
    "dens = binomial_distribution.pmf(z)\n",
    "dist = binomial_distribution.cdf(z)\n",
    "\n",
    "fig, cx = plt.subplots(1, 1)\n",
    "cx.plot(z, dens, 'ro', label='Density')\n",
    "cx.plot(z, dist, 'ko', label='Distribution')\n",
    "plt.legend()\n",
    "plt.title('Binomial Distribution')"
   ]
  },
  {
   "cell_type": "code",
   "execution_count": 353,
   "metadata": {},
   "outputs": [
    {
     "data": {
      "text/plain": [
       "Text(0.5, 1.0, 'Binomial Distribution')"
      ]
     },
     "execution_count": 353,
     "metadata": {},
     "output_type": "execute_result"
    },
    {
     "data": {
      "image/png": "[encoded data removed]",
      "text/plain": [
       "<Figure size 432x288 with 1 Axes>"
      ]
     },
     "metadata": {
      "needs_background": "light"
     },
     "output_type": "display_data"
    },
    {
     "data": {
      "image/png": "[encoded data removed]",
      "text/plain": [
       "<Figure size 432x288 with 1 Axes>"
      ]
     },
     "metadata": {
      "needs_background": "light"
     },
     "output_type": "display_data"
    },
    {
     "data": {
      "image/png": "[encoded data removed]",
      "text/plain": [
       "<Figure size 432x288 with 1 Axes>"
      ]
     },
     "metadata": {
      "needs_background": "light"
     },
     "output_type": "display_data"
    }
   ],
   "source": [
    "##### Program 2.16 Density and cumulative distribution functions\n",
    "%matplotlib inline \n",
    "\n",
    "# Import package\n",
    "import numpy as np\n",
    "import math\n",
    "from scipy.stats import uniform, lognorm, binom\n",
    "import matplotlib.pyplot as plt\n",
    "\n",
    "# Initial set up\n",
    "NN = 20000\n",
    "\n",
    "# Uniform distribution\n",
    "a = -1\n",
    "b = 1\n",
    "x = np.random.uniform(a, b, NN)\n",
    "\n",
    "fig, ax = plt.subplots(1, 1)\n",
    "plt.hist(x, 20)\n",
    "plt.title('Uniform Distribution')\n",
    "\n",
    "# Log-normal distribution\n",
    "mu = 1\n",
    "sigma = 0.25\n",
    "x = np.random.normal(mu, sigma, NN)\n",
    "\n",
    "fig, bx = plt.subplots(1, 1)\n",
    "plt.hist(x, 20)\n",
    "plt.title('Normal Distribution')\n",
    "\n",
    "# Binomial distribution\n",
    "p = 0.25\n",
    "n = 12\n",
    "x = np.random.binomial(n, p, NN)\n",
    "\n",
    "fig, cx = plt.subplots(1, 1)\n",
    "plt.hist(x, n+1)\n",
    "plt.title('Binomial Distribution')"
   ]
  },
  {
   "cell_type": "markdown",
   "metadata": {},
   "source": [
    "### 2.6.1 Polynomial interpolation\n",
    "\n",
    "According to Weierstrass Theorem, any continuous function $f$ defined on a bounded interval $[a,b]$ of the real line can be approximated to any degree of accuracy using a polynomial. This theorem provides a strong motivation for using polynomials to approximate continuous functions. Suppose there are $i=0,...,n$ nodes $x_i$ and interpolation data $y_i=f(x_i)$. Then the polynomial function $$p(x)=\\sum_{i=0}^n c_i x^{i}$$ of degree $n$ can exactly replicate the data at each node. From $n+1$ nodes we can derive $n+1$ equations $$\\sum_{i=0}^nc_i x_j^i=f(x_j),$$ for $j = 0,...,n.$ In matrix notation we obtain $$\\Phi = \\begin{bmatrix}\n",
    "1 & x_0 & x_0^2 & \\dots & x_0^n \\\\ \n",
    "1 & x_1 & x_1^2 & \\dots & x_1^n \\\\ \n",
    "\\vdots & \\vdots & \\vdots & \\ddots & \\vdots \\\\ \n",
    "1 & x_n & x_n^2 & \\dots & x_n^n\n",
    "\\end{bmatrix}, c = \\begin{bmatrix}\n",
    "c_0\\\\ \n",
    "c_1\\\\ \n",
    "\\vdots \\\\ \n",
    "c_n\n",
    "\\end{bmatrix}, \\quad \\text{and} \\quad y = \\begin{bmatrix}\n",
    "f(x_1)\\\\ \n",
    "f(x_2)\\\\ \n",
    "\\vdots \\\\ \n",
    "f(x_n)\n",
    "\\end{bmatrix},$$\n",
    "where the linear equation system $\\Phi c = y$ could be solved by LU-decomposition. $\\Phi$ in this context is called the <i> Vandermonde matrix </i>."
   ]
  },
  {
   "cell_type": "markdown",
   "metadata": {},
   "source": [
    "We now have to chose the interpolation nodes $x_i, i=0,\\dots,n$. In general, we could use any arbitraty set of points $x_i \\in [a,b]$. The simplest approach would be to select $n$ evenly spaced interpolation node, however, polynomial interpolation at evely spaced nodes often comes with problems as the Vandermonde matrix becomes ill conditioned and close to singular. This problem can be solved by choosing so-called <i> Chebyshev nodes</i> so that they are more closely spaced near the endpoints and less in the centre $$x_i = \\frac{a+b}{2}+\\frac{b-a}{2} \\cos\\big( \\frac{n-i+0.5}{n+1} \\pi\\big), i=0,\\dots,n.$$ Program 2.17 shows how to use built-in packages \"scipy.interpolate\" to interpolate Runge's function $$f(x) = \\frac{1}{1+25x^2}.$$"
   ]
  },
  {
   "cell_type": "code",
   "execution_count": 354,
   "metadata": {},
   "outputs": [
    {
     "data": {
      "text/plain": [
       "<matplotlib.legend.Legend at 0x7fcbe050dca0>"
      ]
     },
     "execution_count": 354,
     "metadata": {},
     "output_type": "execute_result"
    },
    {
     "data": {
      "image/png": "[encoded data removed]",
      "text/plain": [
       "<Figure size 432x288 with 1 Axes>"
      ]
     },
     "metadata": {
      "needs_background": "light"
     },
     "output_type": "display_data"
    }
   ],
   "source": [
    "##### Program 2.17 Polynomial interpolation of Runge's function\n",
    "\n",
    "%matplotlib inline \n",
    "# Import package\n",
    "import numpy as np\n",
    "import math\n",
    "import matplotlib.pyplot as plt\n",
    "from scipy.interpolate import barycentric_interpolate,krogh_interpolate\n",
    "\n",
    "# Initial set up\n",
    "N = 10\n",
    "NN = 1000\n",
    "\n",
    "# Get equidistant plot nodes and Runge's function\n",
    "xplot = np.linspace(-1, 1, NN+1)\n",
    "yreal = 1/(1+25*xplot**2)\n",
    "fig, ax = plt.subplots(1, 1)\n",
    "ax.plot(xplot, yreal, 'k-', label = 'Original')\n",
    "\n",
    "# Equidistant polynomial interpolation\n",
    "xi = np.linspace(-1, 1, N+1)\n",
    "yi = 1/(1+25*xi**2)\n",
    "yplot = krogh_interpolate(xi,yi,xplot)\n",
    "ax.plot(xplot, yplot, 'b-', label = 'Equidistant')\n",
    "\n",
    "# Chebyshev polynomial interpolation\n",
    "def grid_Cons_Chev(a,b,N):\n",
    "    \"This function Creates N Chebychev nodes on the interval [a,b] \"\n",
    "    x = np.zeros(N+1)\n",
    "    for n in range(N+1):\n",
    "        x[n] = (a+b)/2 + (b-a)/2*math.cos(np.pi*((2*(N-n)+1)/(2*N+2)))\n",
    "    return x\n",
    "xc = grid_Cons_Chev(-1, 1, N)\n",
    "yc = 1/(1+25*xc**2)\n",
    "yplot2 = barycentric_interpolate(xc,yc,xplot)\n",
    "ax.plot(xplot, yplot2, 'r-', label = 'Chebyshev')\n",
    "plt.legend()\n"
   ]
  },
  {
   "cell_type": "markdown",
   "metadata": {},
   "source": [
    "### 2.6.2 Piecewise polynomial interpolation\n",
    "\n",
    "<i> Piecewise polunomial interpolation</i> defins interpolating polynomials on subintervals $[x_i, x_{i+1}]$. It satisfies the interpolation conditions $\\hat{f}(x_i)=f(x_i)$ at the interpolatiion nodes and is continuous over the whole domain $[a,b]$. \n",
    "\n",
    "In the following we concentrate on two specific classes of piecewise polynomial interpolants. A first-order or <i>piecewise linear</i> function is a series of line segments that is linked at the interpolation nodes to form a continuous function. A third-order function or <i>cubic spline</i> is a series of cubic polynomial segments spliced together to form a twice continuously differentiable function. \n",
    "\n",
    "Piecewise linear functions: Assume an arbitrary set of interpolation data $x_i,f(x_i)$ is given. In the interval $[x_i, x_{i+1}]$ we define the approximating linear function $f_i$ as $$\\hat{f}_i(x)=c_{0,i}+c_{1,i}x,$$ where the coefficients can be computed from the two interpolation conditions \\begin{equation}\n",
    "\\begin{split}\n",
    "f(x_i) &= c_{0,i}+c_{1,i}x_i \\\\\n",
    "f(x_{i+1}) &= c_{0,i}+c_{1,i}x_{i+1}.\n",
    "\\end{split}\n",
    "\\end{equation}\n",
    "The interpolating function can be written as $$\\hat{f}_i(x)=\\frac{(x_{i+1}-x)f(x_i)+(x-x_i)f(x_{i+1})}{x_{i+1}-x_i} \\quad \\text{if} \\quad x\\in[x_i,x_{i+1}]$$ which further simplified to $$\\hat{f}_i(x)=\\varphi f(x_i)+(1-\\varphi)f(x_{i+1}) \\quad \\text{with} \\quad \\varphi=\\frac{x_{i+1}-x}{x_{i+1}-x_i} \\quad \\text{if} \\quad x\\in[x_i,x_{i+1}].$$\n",
    "\n",
    "However due to no being differentiable over the whole domain, piecewise linear functions have some shortcomings which limit their application in many computational economic problems. In such a case, cubic splines offer a better alternative. The $n-1$ piecewise third-order polynomials of a cubic spline on the interval $[x_i,x_{i+1}]$ are $$\\hat{f}_i(x)=c_{0,i}+c_{1,i}x+c_{2,i}x^2+c_{3,i}x^3, i=0,\\dots,n-1.$$ In order to define a spline function, $n+3$ coefficients are needed.\n",
    "\n",
    "Program 2.18 shows how to apply both methods to Runge's function. First create the interpolation nodes $x_i$ using **linspace**. Then use **interp** for piecewise linear interpolation and **splrep** for cubic spline interpolation."
   ]
  },
  {
   "cell_type": "code",
   "execution_count": 355,
   "metadata": {},
   "outputs": [
    {
     "data": {
      "text/plain": [
       "<matplotlib.legend.Legend at 0x7fcbe2d3fc70>"
      ]
     },
     "execution_count": 355,
     "metadata": {},
     "output_type": "execute_result"
    },
    {
     "data": {
      "image/png": "[encoded data removed]",
      "text/plain": [
       "<Figure size 432x288 with 1 Axes>"
      ]
     },
     "metadata": {
      "needs_background": "light"
     },
     "output_type": "display_data"
    }
   ],
   "source": [
    "##### Program 2.18 Piecewise linear and cubic spline interpolation\n",
    "\n",
    "# Import package\n",
    "import numpy as np\n",
    "import math\n",
    "from scipy.interpolate import splrep,splev\n",
    "\n",
    "# Initial set up\n",
    "N = 10\n",
    "NN = 1000\n",
    "\n",
    "# Get nodes and data for interpolation\n",
    "xi = np.linspace(-1,1,N+1)\n",
    "yi = 1/(1+25*xi**2)\n",
    "\n",
    "# Get nodes and data for plotting\n",
    "xplot = np.linspace(-1,1,NN+1)\n",
    "yreal = 1/(1+25*xplot**2)\n",
    "fig, ax = plt.subplots(1, 1)\n",
    "ax.plot(xplot, yreal, 'k-', label = 'Original')\n",
    "\n",
    "# Piecewise linear interpolation\n",
    "yplot = np.interp(xplot, xi, yi)\n",
    "ax.plot(xplot, yplot, 'b-', label = 'Piecewise linear')\n",
    "\n",
    "# Cubic spline interpolation\n",
    "splines = splrep(xi, yi)\n",
    "yplot2 = splev(xplot, splines)\n",
    "ax.plot(xplot, yplot2, 'r-', label = 'Cubic Spline')\n",
    "plt.legend()"
   ]
  },
  {
   "cell_type": "markdown",
   "metadata": {},
   "source": [
    "### 2.6.3 A two-dimensional interpolation example\n",
    "\n",
    "The routines provided above can be extended to handle multidimentional interpolation problems. \n",
    "> **Example** $$f(x,z)=x^2+\\sqrt{z}.$$ This function should be interpolated for values of $x\\in[-1,2]$ and $z \\in [0.5,8]$. \n",
    "\n",
    "**Bilinear interpolation** There are two ways to perform linear interpolation. We assume the point $(x,z)$ at which we want to interpolate the function $f(x,z)$ to lie within the interval $[x_i,x_{i+1}]$ along the $x$-dimension and the interval $[z_i,z_{i+1}]$ along the $z$-dimension. Its main idea is to successively use linear interpolation along the different dimensions of the function $f$. For both values $z-j$ and $z_{j+1}$, we therefore interpolate the function $f$ along the $x$-dimension to obtain \\begin{equation}\n",
    "\\begin{split}\n",
    "\\hat{f}_z(z_j)=\\varphi_x f(x_i,z_j)+(1-\\varphi_x)f(x_{i+1},z_j) \\quad \\text{and} \\\\\n",
    "\\hat{f}_z(z_{j+1})=\\varphi_x f(x_i,z_{j+1})+(1-\\varphi_x)f(x_{i+1},z_{j+1}).\n",
    "\\end{split}\n",
    "\\end{equation}\n",
    "To determin the actual function value of the interpolant, we then interpolate the values of $f_z$ along the $z$-dimension and obtain $$\\hat{f}_{i,j}(x,z)=\\varphi_z \\hat{f}_z(z_j)+(1-\\varphi_z)\\hat{f}_z(z_{i+1}),$$ with $$\\varphi_x=\\frac{x_{i+1}-x}{x_{i+1}-x_i} \\quad \\text{and} \\quad \\varphi_z=\\frac{z_{j+1}-z}{z_{j+1}-z_j}.\n",
    "\n",
    "Following this logic, we can convenientlywrite the piecewise linear interpolating function of $f(x,z)$ as \\begin{equation}\n",
    "\\begin{split}\n",
    "\\hat{f}_{i,j}(x,z)=& \\varphi_x \\varphi_z f(x_i,z_j) + (1-\\varphi_x)\\varphi_z f(x_{i+1},z_j)\\\\\n",
    "& +\\varphi_x(1-\\varphi_z)f(x_i,z_{j+1})+(1-\\varphi_x)(1-\\varphi_z)f(x_{i+1},z_{j+1})\n",
    "\\end{split}\n",
    "\\end{equation}\n",
    "if $x\\in[x_i,x_{i+1}]$ and $z\\in[z_j,z_{j+1}]$.\n",
    "\n",
    "**Multidimensional linear interpolation** The true two-dimensional linear interpolant of $f$ as \\begin{equation}\n",
    "\\hat{f}_{i,j}(x,z)=\\begin{cases}\n",
    "\\varphi_x f(x_i,z_j)+(\\varphi_z-\\varphi_x)f(x_{i+1},z_j)+(1-\\varphi_z)f(x_{i+1},z_{j+1}) \\quad \\text{if}\\varphi_x\\leq \\varphi_z \\quad \\text{and} \\\\\n",
    "\\varphi_z f(x_i,z_j)+(\\varphi_x-\\varphi_z)f(x_i,z_{j+1})+(1-\\varphi_x)f(x_{i+1},z_{j+1}) \\quad \\text{otherwise},\n",
    "\\end{cases}\n",
    "\\end{equation}\n",
    "where $\\varphi_x$ and $\\varphi_z$ are defined in exactly the same way as under the bilinear interpolation scheme.\n",
    "\n",
    "Program 2.19 shoes how we can implement the two-dimensional bilinear and linear interpolation schemes. The interpolation can simply done with **interp2d** by specifying \"linear\" and \"cubic\"."
   ]
  },
  {
   "cell_type": "code",
   "execution_count": 356,
   "metadata": {},
   "outputs": [
    {
     "name": "stderr",
     "output_type": "stream",
     "text": [
      "/var/folders/28/1jdy5fdd2dn89zg1s36k_0w00000gn/T/ipykernel_6440/1128918115.py:15: MatplotlibDeprecationWarning: Axes3D(fig) adding itself to the figure is deprecated since 3.4. Pass the keyword argument auto_add_to_figure=False and use fig.add_axes(ax) to suppress this warning. The default value of auto_add_to_figure will change to False in mpl3.5 and True values will no longer work in 3.6.  This is consistent with other Axes classes.\n",
      "  ax = Axes3D(fig)\n"
     ]
    },
    {
     "data": {
      "image/png": "[encoded data removed]",
      "text/plain": [
       "<Figure size 432x288 with 1 Axes>"
      ]
     },
     "metadata": {
      "needs_background": "light"
     },
     "output_type": "display_data"
    },
    {
     "data": {
      "image/png": "[encoded data removed]",
      "text/plain": [
       "<Figure size 432x288 with 1 Axes>"
      ]
     },
     "metadata": {
      "needs_background": "light"
     },
     "output_type": "display_data"
    }
   ],
   "source": [
    "##### Program 2.19 Two-dimensional interpolation\n",
    "\n",
    "# Import package\n",
    "from mpl_toolkits.mplot3d import axes3d, Axes3D\n",
    "import matplotlib.pyplot as plt\n",
    "from matplotlib import cm\n",
    "import numpy as np\n",
    "import math\n",
    "from scipy.interpolate import splrep,splev,interp2d\n",
    "\n",
    "# Define plot data\n",
    "def plot_data(x, y, z):\n",
    "    fig = plt.figure()\n",
    "    #ax = fig.gca(projection='3d')\n",
    "    ax = Axes3D(fig)\n",
    "    surf = ax.plot_surface(x, y, z, cmap=cm.coolwarm,linewidth=0, antialiased=False)\n",
    "\n",
    "# Initial set up\n",
    "nx = 10\n",
    "nz = 20\n",
    "nerr = 1000\n",
    "xl = -1\n",
    "xr = 2\n",
    "zl = 0.5\n",
    "zr = 8\n",
    "\n",
    "# Get nodes and data for interpolation\n",
    "xi = np.linspace(xl,xr,nx+1)\n",
    "zi = np.linspace(zl,zr,nz+1)\n",
    "xx, zz = np.meshgrid(xi, zi)\n",
    "yi = xx ** 2 + np.sqrt(zz)\n",
    "\n",
    "# Piecewise linear interpolation\n",
    "f = interp2d(xi, zi, yi, kind='linear')\n",
    "xerr = np.linspace(xl,xr,nerr+1)\n",
    "zerr = np.linspace(zl,zr,nerr+1)\n",
    "xx_v, zz_v=np.meshgrid(xerr, zerr) \n",
    "y_li = f(xerr, zerr)\n",
    "plot_data(xerr, zerr, y_li)\n",
    "\n",
    "# Cubic spline interpolation\n",
    "g = interp2d(xi, zi, yi, kind='cubic')\n",
    "y_sp = g(xerr, zerr)\n",
    "plot_data(xerr, zerr, y_sp)"
   ]
  },
  {
   "cell_type": "markdown",
   "metadata": {},
   "source": [
    "## 2.7 Linear programming\n",
    "\n",
    "> **Example** Consider a company that produces two goods $x_1$ and $x_2$ on one type of machine. The production is limited to 100 pieces altogether. Good 1 is a time- and cost-intensive production good which requires 4 hours of production time and raw material worth 20 euro per piece. Good 2 is less intensive and can therefore be produced within 1 hour and with raw material worth 10 euro. The remaining time has to be spent on maintenance. In addition, overall costs of raw material should be limited to 1,100 euro per day. The two goods can be sold on the market for 120 euro and 40 euro, respectively. What is the optinal production of goods per day for the company?\n",
    "This problem can be written as a linear program in standard form $$\\min_{x_1,x_2} -120x_1-40x_2, \\quad x_1,x_2\\geq0$$ subject to \\begin{equation}\n",
    "\\begin{split}\n",
    "x_1+x_2&\\leq100\\\\\n",
    "4x_1+x_2&\\leq160\\\\\n",
    "20x_1+10x_2&\\leq1100.\n",
    "\\end{split}\n",
    "\\end{equation}\n",
    "\n",
    "Program 2.20 shows how to solve it using python package **linprog**."
   ]
  },
  {
   "cell_type": "code",
   "execution_count": 357,
   "metadata": {},
   "outputs": [
    {
     "name": "stdout",
     "output_type": "stream",
     "text": [
      "x      =  [25. 60.]\n",
      "Cons 1 =  15.000000000953094\n",
      "Cons 2 =  1.7715819922159426e-09\n",
      "Cons 3 =  1.22590790851973e-08\n"
     ]
    }
   ],
   "source": [
    "##### Program 2.20 Simplex algorithm for linear programs\n",
    "\n",
    "# Import package\n",
    "import numpy as np\n",
    "import math\n",
    "from scipy.optimize import linprog\n",
    "\n",
    "# Set up matrix, target vector and coefficients\n",
    "A = np.zeros((3,2))\n",
    "A[0,:] = ([1,1])\n",
    "A[1,:] = ([4,1])\n",
    "A[2,:] = ([20,10])\n",
    "b = np.array([100,160,1100])\n",
    "c = np.array([-120,-40])\n",
    "\n",
    "# Solve linear program\n",
    "res = linprog(c, A_ub=A, b_ub=b)\n",
    "\n",
    "# Output\n",
    "print('x      = ', res.x)\n",
    "print('Cons 1 = ', b[0]-sum(A[0,:]*res.x))\n",
    "print('Cons 2 = ', b[1]-sum(A[1,:]*res.x))\n",
    "print('Cons 3 = ', b[2]-sum(A[2,:]*res.x))"
   ]
  }
 ],
 "metadata": {
  "kernelspec": {
   "display_name": "Python 3 (ipykernel)",
   "language": "python",
   "name": "python3"
  },
  "language_info": {
   "codemirror_mode": {
    "name": "ipython",
    "version": 3
   },
   "file_extension": ".py",
   "mimetype": "text/x-python",
   "name": "python",
   "nbconvert_exporter": "python",
   "pygments_lexer": "ipython3",
   "version": "3.9.7"
  }
 },
 "nbformat": 4,
 "nbformat_minor": 2
}
