{
 "cells": [
  {
   "cell_type": "code",
   "execution_count": 1,
   "id": "d88a427b",
   "metadata": {},
   "outputs": [],
   "source": [
    "import numpy as np\n",
    "from linear import LinintGrow, LinintEqui\n",
    "from DiscretizeTools import grow_grid, rouwenhorst\n",
    "\n"
   ]
  },
  {
   "cell_type": "code",
   "execution_count": 2,
   "id": "fdd3fc43",
   "metadata": {},
   "outputs": [],
   "source": [
    "T = 40\n",
    "J = 12\n",
    "JR = 10\n",
    "NP = 2\n",
    "NS = 5\n",
    "NA = 100\n",
    "\n",
    "γ = 0.5\n",
    "egam = 1 - 1/γ\n",
    "ν = 0.335\n",
    "β = 0.998**5\n",
    "\n",
    "σθ = 0.23\n",
    "σϵ = 0.05\n",
    "ρ = 0.98\n",
    "\n",
    "α = 0.36\n",
    "δ = 1 - (1 - 0.0823)**5\n",
    "Ω = 1.60\n",
    "\n",
    "al = 0\n",
    "au = 35\n",
    "agrow = 0.05\n",
    "\n",
    "n_p = (1 + 0.01)**5 -1\n",
    "itermax = 50\n",
    "\n"
   ]
  },
  {
   "cell_type": "code",
   "execution_count": 3,
   "id": "d1396c9c",
   "metadata": {},
   "outputs": [],
   "source": [
    "NA = 100\n",
    "NP = 2\n",
    "NS = 5"
   ]
  },
  {
   "cell_type": "code",
   "execution_count": 34,
   "id": "d55b845b",
   "metadata": {},
   "outputs": [],
   "source": [
    "pop = np.zeros((J, T+1))\n",
    "m = np.zeros((J, T+1))\n",
    "aplus = np.zeros((J, NA + 1, NP, NS, T + 1))\n",
    "\n",
    "\n",
    "for j in range(J):\n",
    "    pop[j, 0] = 1/(1+n_p)**j\n",
    "    \n",
    "for j in range(J):\n",
    "    m[j, 0] = pop[j,0]/pop[0,0]\n",
    "\n",
    "a = grow_grid(al, au, agrow, n=NA+1)\n",
    "\n",
    "for j in range(J):\n",
    "    for p in range(NP):\n",
    "        for s in range(NS):\n",
    "            aplus[j, :, p, s, 0] = np.maximum(a/2, np.ones(NA+1)*a[0]/2)\n",
    "\n",
    "\n",
    "    \n"
   ]
  },
  {
   "cell_type": "code",
   "execution_count": null,
   "id": "bd5698f5",
   "metadata": {},
   "outputs": [],
   "source": []
  }
 ],
 "metadata": {
  "kernelspec": {
   "display_name": "Python 3 (ipykernel)",
   "language": "python",
   "name": "python3"
  },
  "language_info": {
   "codemirror_mode": {
    "name": "ipython",
    "version": 3
   },
   "file_extension": ".py",
   "mimetype": "text/x-python",
   "name": "python",
   "nbconvert_exporter": "python",
   "pygments_lexer": "ipython3",
   "version": "3.9.7"
  }
 },
 "nbformat": 4,
 "nbformat_minor": 5
}
